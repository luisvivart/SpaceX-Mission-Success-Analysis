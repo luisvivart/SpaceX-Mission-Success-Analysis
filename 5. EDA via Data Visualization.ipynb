{
 "cells": [
  {
   "cell_type": "markdown",
   "metadata": {},
   "source": [
    "<div style=\"text-align:center; cursor: auto;\">\n",
    "    <a href=\"https://www.credly.com/badges/5277e6b4-acf1-4f18-b83f-05d1d2ef3059/public_url\" target=\"_blank\">\n",
    "        <img \n",
    "            src=\"applied-data-science-capstone.png\" \n",
    "            width=\"150\" \n",
    "            alt=\"IBM Applied Data Science Badge\" \n",
    "            style=\"object-fit: cover; border-radius: 50%;\">\n",
    "    </a>\n",
    "</div>\n",
    "\n",
    "**<center><h2>EDA via Data Visualization</h2></center>**"
   ]
  },
  {
   "cell_type": "markdown",
   "metadata": {},
   "source": [
    "## Exploring and Preparing Data\n"
   ]
  },
  {
   "cell_type": "markdown",
   "metadata": {},
   "source": [
    "In this project, we will predict if the Falcon 9 first stage will land successfully. SpaceX advertises Falcon 9 rocket launches on its website with a cost of 62 million dollars; other providers cost upward of 165 million dollars each, much of the savings is due to the fact that SpaceX can reuse the first stage."
   ]
  },
  {
   "cell_type": "markdown",
   "metadata": {},
   "source": [
    "Falcon 9 first stage will land successfully\n"
   ]
  },
  {
   "cell_type": "markdown",
   "metadata": {},
   "source": [
    "![](https://cf-courses-data.s3.us.cloud-object-storage.appdomain.cloud/IBMDeveloperSkillsNetwork-DS0701EN-SkillsNetwork/api/Images/landing_1.gif)\n"
   ]
  },
  {
   "cell_type": "markdown",
   "metadata": {},
   "source": [
    "Several examples of an unsuccessful landing are shown here:\n"
   ]
  },
  {
   "cell_type": "markdown",
   "metadata": {},
   "source": [
    "![](https://cf-courses-data.s3.us.cloud-object-storage.appdomain.cloud/IBMDeveloperSkillsNetwork-DS0701EN-SkillsNetwork/api/Images/crash.gif)\n"
   ]
  },
  {
   "cell_type": "markdown",
   "metadata": {},
   "source": [
    "Most unsuccessful landings are planned. Space X performs a controlled landing in the oceans.\n"
   ]
  },
  {
   "cell_type": "markdown",
   "metadata": {},
   "source": [
    "## Objectives\n",
    "\n",
    "Perform exploratory Data Analysis and Feature Engineering using `Pandas` and `Matplotlib`\n",
    "\n",
    "*   Exploratory Data Analysis\n",
    "*   Preparing Data  Feature Engineering\n"
   ]
  },
  {
   "cell_type": "markdown",
   "metadata": {},
   "source": [
    "### Import Libraries and Define Auxiliary Functions\n"
   ]
  },
  {
   "cell_type": "code",
   "execution_count": 1,
   "metadata": {
    "trusted": true
   },
   "outputs": [],
   "source": [
    "import pandas as pd\n",
    "import numpy as np\n",
    "import matplotlib.pyplot as plt\n",
    "import seaborn as sns"
   ]
  },
  {
   "cell_type": "markdown",
   "metadata": {},
   "source": [
    "## Exploratory Data Analysis"
   ]
  },
  {
   "cell_type": "markdown",
   "metadata": {},
   "source": [
    "First, let's read the SpaceX dataset into a Pandas dataframe and print its summary\n"
   ]
  },
  {
   "cell_type": "code",
   "execution_count": null,
   "metadata": {
    "trusted": true
   },
   "outputs": [
    {
     "data": {
      "application/vnd.microsoft.datawrangler.viewer.v0+json": {
       "columns": [
        {
         "name": "index",
         "rawType": "int64",
         "type": "integer"
        },
        {
         "name": "FlightNumber",
         "rawType": "int64",
         "type": "integer"
        },
        {
         "name": "Date",
         "rawType": "object",
         "type": "string"
        },
        {
         "name": "BoosterVersion",
         "rawType": "object",
         "type": "string"
        },
        {
         "name": "PayloadMass",
         "rawType": "float64",
         "type": "float"
        },
        {
         "name": "Orbit",
         "rawType": "object",
         "type": "string"
        },
        {
         "name": "LaunchSite",
         "rawType": "object",
         "type": "string"
        },
        {
         "name": "Outcome",
         "rawType": "object",
         "type": "string"
        },
        {
         "name": "Flights",
         "rawType": "int64",
         "type": "integer"
        },
        {
         "name": "GridFins",
         "rawType": "bool",
         "type": "boolean"
        },
        {
         "name": "Reused",
         "rawType": "bool",
         "type": "boolean"
        },
        {
         "name": "Legs",
         "rawType": "bool",
         "type": "boolean"
        },
        {
         "name": "LandingPad",
         "rawType": "object",
         "type": "unknown"
        },
        {
         "name": "Block",
         "rawType": "float64",
         "type": "float"
        },
        {
         "name": "ReusedCount",
         "rawType": "int64",
         "type": "integer"
        },
        {
         "name": "Serial",
         "rawType": "object",
         "type": "string"
        },
        {
         "name": "Longitude",
         "rawType": "float64",
         "type": "float"
        },
        {
         "name": "Latitude",
         "rawType": "float64",
         "type": "float"
        },
        {
         "name": "Class",
         "rawType": "int64",
         "type": "integer"
        }
       ],
       "ref": "2d761f34-5d66-42e5-b023-570967befe21",
       "rows": [
        [
         "0",
         "1",
         "2010-06-04",
         "Falcon 9",
         "6123.547647058824",
         "LEO",
         "CCSFS SLC 40",
         "None None",
         "1",
         "False",
         "False",
         "False",
         null,
         "1.0",
         "0",
         "B0003",
         "-80.577366",
         "28.5618571",
         "0"
        ],
        [
         "1",
         "2",
         "2012-05-22",
         "Falcon 9",
         "525.0",
         "LEO",
         "CCSFS SLC 40",
         "None None",
         "1",
         "False",
         "False",
         "False",
         null,
         "1.0",
         "0",
         "B0005",
         "-80.577366",
         "28.5618571",
         "0"
        ],
        [
         "2",
         "3",
         "2013-03-01",
         "Falcon 9",
         "677.0",
         "ISS",
         "CCSFS SLC 40",
         "None None",
         "1",
         "False",
         "False",
         "False",
         null,
         "1.0",
         "0",
         "B0007",
         "-80.577366",
         "28.5618571",
         "0"
        ],
        [
         "3",
         "4",
         "2013-09-29",
         "Falcon 9",
         "500.0",
         "PO",
         "VAFB SLC 4E",
         "False Ocean",
         "1",
         "False",
         "False",
         "False",
         null,
         "1.0",
         "0",
         "B1003",
         "-120.610829",
         "34.632093",
         "0"
        ],
        [
         "4",
         "5",
         "2013-12-03",
         "Falcon 9",
         "3170.0",
         "GTO",
         "CCSFS SLC 40",
         "None None",
         "1",
         "False",
         "False",
         "False",
         null,
         "1.0",
         "0",
         "B1004",
         "-80.577366",
         "28.5618571",
         "0"
        ]
       ],
       "shape": {
        "columns": 18,
        "rows": 5
       }
      },
      "text/html": [
       "<div>\n",
       "<style scoped>\n",
       "    .dataframe tbody tr th:only-of-type {\n",
       "        vertical-align: middle;\n",
       "    }\n",
       "\n",
       "    .dataframe tbody tr th {\n",
       "        vertical-align: top;\n",
       "    }\n",
       "\n",
       "    .dataframe thead th {\n",
       "        text-align: right;\n",
       "    }\n",
       "</style>\n",
       "<table border=\"1\" class=\"dataframe\">\n",
       "  <thead>\n",
       "    <tr style=\"text-align: right;\">\n",
       "      <th></th>\n",
       "      <th>FlightNumber</th>\n",
       "      <th>Date</th>\n",
       "      <th>BoosterVersion</th>\n",
       "      <th>PayloadMass</th>\n",
       "      <th>Orbit</th>\n",
       "      <th>LaunchSite</th>\n",
       "      <th>Outcome</th>\n",
       "      <th>Flights</th>\n",
       "      <th>GridFins</th>\n",
       "      <th>Reused</th>\n",
       "      <th>Legs</th>\n",
       "      <th>LandingPad</th>\n",
       "      <th>Block</th>\n",
       "      <th>ReusedCount</th>\n",
       "      <th>Serial</th>\n",
       "      <th>Longitude</th>\n",
       "      <th>Latitude</th>\n",
       "      <th>Class</th>\n",
       "    </tr>\n",
       "  </thead>\n",
       "  <tbody>\n",
       "    <tr>\n",
       "      <th>0</th>\n",
       "      <td>1</td>\n",
       "      <td>2010-06-04</td>\n",
       "      <td>Falcon 9</td>\n",
       "      <td>6123.547647</td>\n",
       "      <td>LEO</td>\n",
       "      <td>CCSFS SLC 40</td>\n",
       "      <td>None None</td>\n",
       "      <td>1</td>\n",
       "      <td>False</td>\n",
       "      <td>False</td>\n",
       "      <td>False</td>\n",
       "      <td>NaN</td>\n",
       "      <td>1.0</td>\n",
       "      <td>0</td>\n",
       "      <td>B0003</td>\n",
       "      <td>-80.577366</td>\n",
       "      <td>28.561857</td>\n",
       "      <td>0</td>\n",
       "    </tr>\n",
       "    <tr>\n",
       "      <th>1</th>\n",
       "      <td>2</td>\n",
       "      <td>2012-05-22</td>\n",
       "      <td>Falcon 9</td>\n",
       "      <td>525.000000</td>\n",
       "      <td>LEO</td>\n",
       "      <td>CCSFS SLC 40</td>\n",
       "      <td>None None</td>\n",
       "      <td>1</td>\n",
       "      <td>False</td>\n",
       "      <td>False</td>\n",
       "      <td>False</td>\n",
       "      <td>NaN</td>\n",
       "      <td>1.0</td>\n",
       "      <td>0</td>\n",
       "      <td>B0005</td>\n",
       "      <td>-80.577366</td>\n",
       "      <td>28.561857</td>\n",
       "      <td>0</td>\n",
       "    </tr>\n",
       "    <tr>\n",
       "      <th>2</th>\n",
       "      <td>3</td>\n",
       "      <td>2013-03-01</td>\n",
       "      <td>Falcon 9</td>\n",
       "      <td>677.000000</td>\n",
       "      <td>ISS</td>\n",
       "      <td>CCSFS SLC 40</td>\n",
       "      <td>None None</td>\n",
       "      <td>1</td>\n",
       "      <td>False</td>\n",
       "      <td>False</td>\n",
       "      <td>False</td>\n",
       "      <td>NaN</td>\n",
       "      <td>1.0</td>\n",
       "      <td>0</td>\n",
       "      <td>B0007</td>\n",
       "      <td>-80.577366</td>\n",
       "      <td>28.561857</td>\n",
       "      <td>0</td>\n",
       "    </tr>\n",
       "    <tr>\n",
       "      <th>3</th>\n",
       "      <td>4</td>\n",
       "      <td>2013-09-29</td>\n",
       "      <td>Falcon 9</td>\n",
       "      <td>500.000000</td>\n",
       "      <td>PO</td>\n",
       "      <td>VAFB SLC 4E</td>\n",
       "      <td>False Ocean</td>\n",
       "      <td>1</td>\n",
       "      <td>False</td>\n",
       "      <td>False</td>\n",
       "      <td>False</td>\n",
       "      <td>NaN</td>\n",
       "      <td>1.0</td>\n",
       "      <td>0</td>\n",
       "      <td>B1003</td>\n",
       "      <td>-120.610829</td>\n",
       "      <td>34.632093</td>\n",
       "      <td>0</td>\n",
       "    </tr>\n",
       "    <tr>\n",
       "      <th>4</th>\n",
       "      <td>5</td>\n",
       "      <td>2013-12-03</td>\n",
       "      <td>Falcon 9</td>\n",
       "      <td>3170.000000</td>\n",
       "      <td>GTO</td>\n",
       "      <td>CCSFS SLC 40</td>\n",
       "      <td>None None</td>\n",
       "      <td>1</td>\n",
       "      <td>False</td>\n",
       "      <td>False</td>\n",
       "      <td>False</td>\n",
       "      <td>NaN</td>\n",
       "      <td>1.0</td>\n",
       "      <td>0</td>\n",
       "      <td>B1004</td>\n",
       "      <td>-80.577366</td>\n",
       "      <td>28.561857</td>\n",
       "      <td>0</td>\n",
       "    </tr>\n",
       "  </tbody>\n",
       "</table>\n",
       "</div>"
      ],
      "text/plain": [
       "   FlightNumber        Date BoosterVersion  PayloadMass Orbit    LaunchSite  \\\n",
       "0             1  2010-06-04       Falcon 9  6123.547647   LEO  CCSFS SLC 40   \n",
       "1             2  2012-05-22       Falcon 9   525.000000   LEO  CCSFS SLC 40   \n",
       "2             3  2013-03-01       Falcon 9   677.000000   ISS  CCSFS SLC 40   \n",
       "3             4  2013-09-29       Falcon 9   500.000000    PO   VAFB SLC 4E   \n",
       "4             5  2013-12-03       Falcon 9  3170.000000   GTO  CCSFS SLC 40   \n",
       "\n",
       "       Outcome  Flights  GridFins  Reused   Legs LandingPad  Block  \\\n",
       "0    None None        1     False   False  False        NaN    1.0   \n",
       "1    None None        1     False   False  False        NaN    1.0   \n",
       "2    None None        1     False   False  False        NaN    1.0   \n",
       "3  False Ocean        1     False   False  False        NaN    1.0   \n",
       "4    None None        1     False   False  False        NaN    1.0   \n",
       "\n",
       "   ReusedCount Serial   Longitude   Latitude  Class  \n",
       "0            0  B0003  -80.577366  28.561857      0  \n",
       "1            0  B0005  -80.577366  28.561857      0  \n",
       "2            0  B0007  -80.577366  28.561857      0  \n",
       "3            0  B1003 -120.610829  34.632093      0  \n",
       "4            0  B1004  -80.577366  28.561857      0  "
      ]
     },
     "execution_count": 2,
     "metadata": {},
     "output_type": "execute_result"
    }
   ],
   "source": [
    "file_path = \"spacex_dataset_clean.csv\"\n",
    "df = pd.read_csv(file_path)\n",
    "df.head(5)"
   ]
  },
  {
   "cell_type": "markdown",
   "metadata": {},
   "source": [
    "Now, let's try to see how the `FlightNumber` (indicating the continuous launch attempts.) and `Payload` variables would affect the launch outcome.\n",
    "\n",
    "We can plot out the <code>FlightNumber</code> vs. <code>PayloadMass</code>and overlay the outcome of the launch. We see that as the flight number increases, the first stage is more likely to land successfully. The payload mass is also important; it seems the more massive the payload, the less likely the first stage will return.\n"
   ]
  },
  {
   "cell_type": "code",
   "execution_count": 3,
   "metadata": {
    "trusted": true
   },
   "outputs": [
    {
     "data": {
      "image/png": "[encoded data removed]",
      "text/plain": [
       "<Figure size 2558.88x500 with 1 Axes>"
      ]
     },
     "metadata": {},
     "output_type": "display_data"
    }
   ],
   "source": [
    "sns.catplot(y=\"PayloadMass\", x=\"FlightNumber\", hue=\"Class\", data=df, aspect = 5)\n",
    "plt.xlabel(\"Flight Number\",fontsize=20)\n",
    "plt.ylabel(\"Pay load Mass (kg)\",fontsize=20)\n",
    "plt.show()"
   ]
  },
  {
   "cell_type": "markdown",
   "metadata": {},
   "source": [
    "We see that different launch sites have different success rates.  <code>CCAFS LC-40</code>, has a success rate of 60 %, while  <code>KSC LC-39A</code> and <code>VAFB SLC 4E</code> has a success rate of 77%.\n"
   ]
  },
  {
   "cell_type": "markdown",
   "metadata": {},
   "source": [
    "Next, let's drill down to each site visualize its detailed launch records.\n"
   ]
  },
  {
   "cell_type": "code",
   "execution_count": 4,
   "metadata": {
    "trusted": true
   },
   "outputs": [
    {
     "data": {
      "image/png": "[encoded data removed]",
      "text/plain": [
       "<Figure size 1558.88x500 with 1 Axes>"
      ]
     },
     "metadata": {},
     "output_type": "display_data"
    }
   ],
   "source": [
    "# Visualizes the relationship between Flight Number and Launch Site\n",
    "sns.catplot(y=\"LaunchSite\", x=\"FlightNumber\", hue=\"Class\", data=df, aspect = 3)\n",
    "plt.xlabel(\"Flight Number\",fontsize=20)\n",
    "plt.ylabel(\"Launch Site\",fontsize=20)\n",
    "plt.show()"
   ]
  },
  {
   "cell_type": "code",
   "execution_count": 5,
   "metadata": {
    "trusted": true
   },
   "outputs": [
    {
     "data": {
      "image/png": "[encoded data removed]",
      "text/plain": [
       "<Figure size 1558.88x500 with 1 Axes>"
      ]
     },
     "metadata": {},
     "output_type": "display_data"
    }
   ],
   "source": [
    "# Visualizes the relationship between Payload and Launch Site\n",
    "sns.catplot(y=\"LaunchSite\", x=\"PayloadMass\", hue=\"Class\", data=df, aspect = 3)\n",
    "plt.xlabel(\"Pay Load Mass (kg)\",fontsize=20)\n",
    "plt.ylabel(\"Launch Site\",fontsize=20)\n",
    "plt.show()"
   ]
  },
  {
   "cell_type": "markdown",
   "metadata": {},
   "source": [
    "Now if you observe the Payload Vs. Launch Site scatter point chart you will find for the VAFB-SLC  launchsite there are no  rockets  launched for  heavypayload mass(greater than 10000).\n"
   ]
  },
  {
   "cell_type": "code",
   "execution_count": 6,
   "metadata": {
    "trusted": true
   },
   "outputs": [
    {
     "data": {
      "image/png": "[encoded data removed]",
      "text/plain": [
       "<Figure size 800x500 with 1 Axes>"
      ]
     },
     "metadata": {},
     "output_type": "display_data"
    }
   ],
   "source": [
    "# Visualizes the relationship between success rate of each orbit type\n",
    "orbit_success = df.groupby('Orbit')['Class'].mean()\n",
    "\n",
    "plt.figure(figsize=(8,5))\n",
    "orbit_success.plot(kind='bar', color='teal')\n",
    "plt.xlabel('Orbit Type',fontsize=20)\n",
    "plt.ylabel('Success Rate',fontsize=20)\n",
    "plt.show()"
   ]
  },
  {
   "cell_type": "markdown",
   "metadata": {},
   "source": [
    "The MOST SUCCESSFUL orbit types are: ES-L1, GEO, HEO, SSO and VLEO\n"
   ]
  },
  {
   "cell_type": "code",
   "execution_count": 7,
   "metadata": {
    "trusted": true
   },
   "outputs": [
    {
     "data": {
      "image/png": "[encoded data removed]",
      "text/plain": [
       "<Figure size 1558.88x500 with 1 Axes>"
      ]
     },
     "metadata": {},
     "output_type": "display_data"
    }
   ],
   "source": [
    "# Visualizes the relationship between FlightNumber and Orbit type\n",
    "sns.catplot(y=\"Orbit\", x=\"FlightNumber\", hue=\"Class\", data=df, aspect = 3)\n",
    "plt.xlabel(\"Flight Number\",fontsize=20)\n",
    "plt.ylabel(\"Orbit\",fontsize=20)\n",
    "plt.show()"
   ]
  },
  {
   "cell_type": "markdown",
   "metadata": {},
   "source": [
    "For each orbit, we want to see if there is any relationship between FlightNumber and Orbit type.\n"
   ]
  },
  {
   "cell_type": "markdown",
   "metadata": {},
   "source": [
    "We can observe that in the LEO orbit the Success appears related to the number of flights; on the other hand, there seems to be no relationship between flight number when in GTO orbit.\n"
   ]
  },
  {
   "cell_type": "code",
   "execution_count": 8,
   "metadata": {
    "trusted": true
   },
   "outputs": [
    {
     "data": {
      "image/png": "[encoded data removed]",
      "text/plain": [
       "<Figure size 1558.88x500 with 1 Axes>"
      ]
     },
     "metadata": {},
     "output_type": "display_data"
    }
   ],
   "source": [
    "# Visualizes the relationship between Payload and Orbit type\n",
    "sns.catplot(y=\"Orbit\", x=\"PayloadMass\", hue=\"Class\", data=df, aspect = 3)\n",
    "plt.xlabel(\"Pay Load Mass (kg)\",fontsize=20)\n",
    "plt.ylabel(\"Orbit\",fontsize=20)\n",
    "plt.show()"
   ]
  },
  {
   "cell_type": "markdown",
   "metadata": {},
   "source": [
    "Similarly, we can plot the Payload vs. Orbit scatter point charts to reveal the relationship between Payload and Orbit type.\n",
    "\n",
    "With heavy payloads, the positive (successful) landing rate leans more for Polar, LEO and ISS. However, we cannot distinguish this well enough for the GTO orbit type.\n",
    "\n"
   ]
  },
  {
   "cell_type": "markdown",
   "metadata": {},
   "source": [
    "Let's plot a line chart with x axis to be <code>Year</code> and y axis to be average success rate, to get the average launch success trend but, first, we need a function to get the year from the date:\n",
    "\n"
   ]
  },
  {
   "cell_type": "code",
   "execution_count": 9,
   "metadata": {
    "trusted": true
   },
   "outputs": [],
   "source": [
    "df['Year'] = df[\"Date\"].apply(lambda x: x.split(\"-\")[0])"
   ]
  },
  {
   "cell_type": "code",
   "execution_count": 10,
   "metadata": {
    "trusted": true
   },
   "outputs": [
    {
     "data": {
      "image/png": "[encoded data removed]",
      "text/plain": [
       "<Figure size 800x500 with 1 Axes>"
      ]
     },
     "metadata": {},
     "output_type": "display_data"
    }
   ],
   "source": [
    "# Line chart showing the launch success yearly trend\n",
    "yearly_success_rate = df.groupby('Year')['Class'].mean()\n",
    "\n",
    "plt.figure(figsize=(8,5))\n",
    "yearly_success_rate.plot(kind='line', color='teal', marker='o')\n",
    "plt.xlabel('Year',fontsize=20)\n",
    "plt.ylabel('Average Success Rate',fontsize=20)\n",
    "plt.grid(True)\n",
    "plt.show()"
   ]
  },
  {
   "cell_type": "markdown",
   "metadata": {},
   "source": [
    "The sucess rate since 2013 kept increasing until 2020\n"
   ]
  },
  {
   "cell_type": "markdown",
   "metadata": {},
   "source": [
    "## Features Engineering"
   ]
  },
  {
   "cell_type": "markdown",
   "metadata": {},
   "source": [
    "We need to obtain some preliminary insights about how each important variable would affect the success rate\n"
   ]
  },
  {
   "cell_type": "code",
   "execution_count": 11,
   "metadata": {
    "trusted": true
   },
   "outputs": [
    {
     "data": {
      "application/vnd.microsoft.datawrangler.viewer.v0+json": {
       "columns": [
        {
         "name": "index",
         "rawType": "int64",
         "type": "integer"
        },
        {
         "name": "FlightNumber",
         "rawType": "int64",
         "type": "integer"
        },
        {
         "name": "PayloadMass",
         "rawType": "float64",
         "type": "float"
        },
        {
         "name": "Orbit",
         "rawType": "object",
         "type": "string"
        },
        {
         "name": "LaunchSite",
         "rawType": "object",
         "type": "string"
        },
        {
         "name": "Flights",
         "rawType": "int64",
         "type": "integer"
        },
        {
         "name": "GridFins",
         "rawType": "bool",
         "type": "boolean"
        },
        {
         "name": "Reused",
         "rawType": "bool",
         "type": "boolean"
        },
        {
         "name": "Legs",
         "rawType": "bool",
         "type": "boolean"
        },
        {
         "name": "LandingPad",
         "rawType": "object",
         "type": "unknown"
        },
        {
         "name": "Block",
         "rawType": "float64",
         "type": "float"
        },
        {
         "name": "ReusedCount",
         "rawType": "int64",
         "type": "integer"
        },
        {
         "name": "Serial",
         "rawType": "object",
         "type": "string"
        }
       ],
       "ref": "900f9426-37be-4be3-87de-8787936ada8d",
       "rows": [
        [
         "0",
         "1",
         "6123.547647058824",
         "LEO",
         "CCSFS SLC 40",
         "1",
         "False",
         "False",
         "False",
         null,
         "1.0",
         "0",
         "B0003"
        ],
        [
         "1",
         "2",
         "525.0",
         "LEO",
         "CCSFS SLC 40",
         "1",
         "False",
         "False",
         "False",
         null,
         "1.0",
         "0",
         "B0005"
        ],
        [
         "2",
         "3",
         "677.0",
         "ISS",
         "CCSFS SLC 40",
         "1",
         "False",
         "False",
         "False",
         null,
         "1.0",
         "0",
         "B0007"
        ],
        [
         "3",
         "4",
         "500.0",
         "PO",
         "VAFB SLC 4E",
         "1",
         "False",
         "False",
         "False",
         null,
         "1.0",
         "0",
         "B1003"
        ],
        [
         "4",
         "5",
         "3170.0",
         "GTO",
         "CCSFS SLC 40",
         "1",
         "False",
         "False",
         "False",
         null,
         "1.0",
         "0",
         "B1004"
        ]
       ],
       "shape": {
        "columns": 12,
        "rows": 5
       }
      },
      "text/html": [
       "<div>\n",
       "<style scoped>\n",
       "    .dataframe tbody tr th:only-of-type {\n",
       "        vertical-align: middle;\n",
       "    }\n",
       "\n",
       "    .dataframe tbody tr th {\n",
       "        vertical-align: top;\n",
       "    }\n",
       "\n",
       "    .dataframe thead th {\n",
       "        text-align: right;\n",
       "    }\n",
       "</style>\n",
       "<table border=\"1\" class=\"dataframe\">\n",
       "  <thead>\n",
       "    <tr style=\"text-align: right;\">\n",
       "      <th></th>\n",
       "      <th>FlightNumber</th>\n",
       "      <th>PayloadMass</th>\n",
       "      <th>Orbit</th>\n",
       "      <th>LaunchSite</th>\n",
       "      <th>Flights</th>\n",
       "      <th>GridFins</th>\n",
       "      <th>Reused</th>\n",
       "      <th>Legs</th>\n",
       "      <th>LandingPad</th>\n",
       "      <th>Block</th>\n",
       "      <th>ReusedCount</th>\n",
       "      <th>Serial</th>\n",
       "    </tr>\n",
       "  </thead>\n",
       "  <tbody>\n",
       "    <tr>\n",
       "      <th>0</th>\n",
       "      <td>1</td>\n",
       "      <td>6123.547647</td>\n",
       "      <td>LEO</td>\n",
       "      <td>CCSFS SLC 40</td>\n",
       "      <td>1</td>\n",
       "      <td>False</td>\n",
       "      <td>False</td>\n",
       "      <td>False</td>\n",
       "      <td>NaN</td>\n",
       "      <td>1.0</td>\n",
       "      <td>0</td>\n",
       "      <td>B0003</td>\n",
       "    </tr>\n",
       "    <tr>\n",
       "      <th>1</th>\n",
       "      <td>2</td>\n",
       "      <td>525.000000</td>\n",
       "      <td>LEO</td>\n",
       "      <td>CCSFS SLC 40</td>\n",
       "      <td>1</td>\n",
       "      <td>False</td>\n",
       "      <td>False</td>\n",
       "      <td>False</td>\n",
       "      <td>NaN</td>\n",
       "      <td>1.0</td>\n",
       "      <td>0</td>\n",
       "      <td>B0005</td>\n",
       "    </tr>\n",
       "    <tr>\n",
       "      <th>2</th>\n",
       "      <td>3</td>\n",
       "      <td>677.000000</td>\n",
       "      <td>ISS</td>\n",
       "      <td>CCSFS SLC 40</td>\n",
       "      <td>1</td>\n",
       "      <td>False</td>\n",
       "      <td>False</td>\n",
       "      <td>False</td>\n",
       "      <td>NaN</td>\n",
       "      <td>1.0</td>\n",
       "      <td>0</td>\n",
       "      <td>B0007</td>\n",
       "    </tr>\n",
       "    <tr>\n",
       "      <th>3</th>\n",
       "      <td>4</td>\n",
       "      <td>500.000000</td>\n",
       "      <td>PO</td>\n",
       "      <td>VAFB SLC 4E</td>\n",
       "      <td>1</td>\n",
       "      <td>False</td>\n",
       "      <td>False</td>\n",
       "      <td>False</td>\n",
       "      <td>NaN</td>\n",
       "      <td>1.0</td>\n",
       "      <td>0</td>\n",
       "      <td>B1003</td>\n",
       "    </tr>\n",
       "    <tr>\n",
       "      <th>4</th>\n",
       "      <td>5</td>\n",
       "      <td>3170.000000</td>\n",
       "      <td>GTO</td>\n",
       "      <td>CCSFS SLC 40</td>\n",
       "      <td>1</td>\n",
       "      <td>False</td>\n",
       "      <td>False</td>\n",
       "      <td>False</td>\n",
       "      <td>NaN</td>\n",
       "      <td>1.0</td>\n",
       "      <td>0</td>\n",
       "      <td>B1004</td>\n",
       "    </tr>\n",
       "  </tbody>\n",
       "</table>\n",
       "</div>"
      ],
      "text/plain": [
       "   FlightNumber  PayloadMass Orbit    LaunchSite  Flights  GridFins  Reused  \\\n",
       "0             1  6123.547647   LEO  CCSFS SLC 40        1     False   False   \n",
       "1             2   525.000000   LEO  CCSFS SLC 40        1     False   False   \n",
       "2             3   677.000000   ISS  CCSFS SLC 40        1     False   False   \n",
       "3             4   500.000000    PO   VAFB SLC 4E        1     False   False   \n",
       "4             5  3170.000000   GTO  CCSFS SLC 40        1     False   False   \n",
       "\n",
       "    Legs LandingPad  Block  ReusedCount Serial  \n",
       "0  False        NaN    1.0            0  B0003  \n",
       "1  False        NaN    1.0            0  B0005  \n",
       "2  False        NaN    1.0            0  B0007  \n",
       "3  False        NaN    1.0            0  B1003  \n",
       "4  False        NaN    1.0            0  B1004  "
      ]
     },
     "execution_count": 11,
     "metadata": {},
     "output_type": "execute_result"
    }
   ],
   "source": [
    "features = df[['FlightNumber', 'PayloadMass', 'Orbit', 'LaunchSite', 'Flights', 'GridFins', 'Reused', 'Legs', 'LandingPad', 'Block', 'ReusedCount', 'Serial']]\n",
    "features.head()"
   ]
  },
  {
   "cell_type": "markdown",
   "metadata": {},
   "source": [
    "#### Let's OneHotEncode (convert categorical variables into a format that can be provided to machine learning algorithms to improve predictions) to the 'Orbits', 'LaunchSite' 'LandingPad', and 'Serial' columns.\n"
   ]
  },
  {
   "cell_type": "code",
   "execution_count": 12,
   "metadata": {
    "trusted": true
   },
   "outputs": [
    {
     "data": {
      "application/vnd.microsoft.datawrangler.viewer.v0+json": {
       "columns": [
        {
         "name": "index",
         "rawType": "int64",
         "type": "integer"
        },
        {
         "name": "FlightNumber",
         "rawType": "int64",
         "type": "integer"
        },
        {
         "name": "PayloadMass",
         "rawType": "float64",
         "type": "float"
        },
        {
         "name": "Flights",
         "rawType": "int64",
         "type": "integer"
        },
        {
         "name": "GridFins",
         "rawType": "bool",
         "type": "boolean"
        },
        {
         "name": "Reused",
         "rawType": "bool",
         "type": "boolean"
        },
        {
         "name": "Legs",
         "rawType": "bool",
         "type": "boolean"
        },
        {
         "name": "Block",
         "rawType": "float64",
         "type": "float"
        },
        {
         "name": "ReusedCount",
         "rawType": "int64",
         "type": "integer"
        },
        {
         "name": "Orbit_ES-L1",
         "rawType": "bool",
         "type": "boolean"
        },
        {
         "name": "Orbit_GEO",
         "rawType": "bool",
         "type": "boolean"
        },
        {
         "name": "Orbit_GTO",
         "rawType": "bool",
         "type": "boolean"
        },
        {
         "name": "Orbit_HEO",
         "rawType": "bool",
         "type": "boolean"
        },
        {
         "name": "Orbit_ISS",
         "rawType": "bool",
         "type": "boolean"
        },
        {
         "name": "Orbit_LEO",
         "rawType": "bool",
         "type": "boolean"
        },
        {
         "name": "Orbit_MEO",
         "rawType": "bool",
         "type": "boolean"
        },
        {
         "name": "Orbit_PO",
         "rawType": "bool",
         "type": "boolean"
        },
        {
         "name": "Orbit_SO",
         "rawType": "bool",
         "type": "boolean"
        },
        {
         "name": "Orbit_SSO",
         "rawType": "bool",
         "type": "boolean"
        },
        {
         "name": "Orbit_VLEO",
         "rawType": "bool",
         "type": "boolean"
        },
        {
         "name": "LaunchSite_CCSFS SLC 40",
         "rawType": "bool",
         "type": "boolean"
        },
        {
         "name": "LaunchSite_KSC LC 39A",
         "rawType": "bool",
         "type": "boolean"
        },
        {
         "name": "LaunchSite_VAFB SLC 4E",
         "rawType": "bool",
         "type": "boolean"
        },
        {
         "name": "LandingPad_5e9e3032383ecb267a34e7c7",
         "rawType": "bool",
         "type": "boolean"
        },
        {
         "name": "LandingPad_5e9e3032383ecb554034e7c9",
         "rawType": "bool",
         "type": "boolean"
        },
        {
         "name": "LandingPad_5e9e3032383ecb6bb234e7ca",
         "rawType": "bool",
         "type": "boolean"
        },
        {
         "name": "LandingPad_5e9e3032383ecb761634e7cb",
         "rawType": "bool",
         "type": "boolean"
        },
        {
         "name": "LandingPad_5e9e3033383ecbb9e534e7cc",
         "rawType": "bool",
         "type": "boolean"
        },
        {
         "name": "Serial_B0003",
         "rawType": "bool",
         "type": "boolean"
        },
        {
         "name": "Serial_B0005",
         "rawType": "bool",
         "type": "boolean"
        },
        {
         "name": "Serial_B0007",
         "rawType": "bool",
         "type": "boolean"
        },
        {
         "name": "Serial_B1003",
         "rawType": "bool",
         "type": "boolean"
        },
        {
         "name": "Serial_B1004",
         "rawType": "bool",
         "type": "boolean"
        },
        {
         "name": "Serial_B1005",
         "rawType": "bool",
         "type": "boolean"
        },
        {
         "name": "Serial_B1006",
         "rawType": "bool",
         "type": "boolean"
        },
        {
         "name": "Serial_B1007",
         "rawType": "bool",
         "type": "boolean"
        },
        {
         "name": "Serial_B1008",
         "rawType": "bool",
         "type": "boolean"
        },
        {
         "name": "Serial_B1010",
         "rawType": "bool",
         "type": "boolean"
        },
        {
         "name": "Serial_B1011",
         "rawType": "bool",
         "type": "boolean"
        },
        {
         "name": "Serial_B1012",
         "rawType": "bool",
         "type": "boolean"
        },
        {
         "name": "Serial_B1013",
         "rawType": "bool",
         "type": "boolean"
        },
        {
         "name": "Serial_B1015",
         "rawType": "bool",
         "type": "boolean"
        },
        {
         "name": "Serial_B1016",
         "rawType": "bool",
         "type": "boolean"
        },
        {
         "name": "Serial_B1017",
         "rawType": "bool",
         "type": "boolean"
        },
        {
         "name": "Serial_B1018",
         "rawType": "bool",
         "type": "boolean"
        },
        {
         "name": "Serial_B1019",
         "rawType": "bool",
         "type": "boolean"
        },
        {
         "name": "Serial_B1020",
         "rawType": "bool",
         "type": "boolean"
        },
        {
         "name": "Serial_B1021",
         "rawType": "bool",
         "type": "boolean"
        },
        {
         "name": "Serial_B1022",
         "rawType": "bool",
         "type": "boolean"
        },
        {
         "name": "Serial_B1023",
         "rawType": "bool",
         "type": "boolean"
        },
        {
         "name": "Serial_B1025",
         "rawType": "bool",
         "type": "boolean"
        },
        {
         "name": "Serial_B1026",
         "rawType": "bool",
         "type": "boolean"
        },
        {
         "name": "Serial_B1028",
         "rawType": "bool",
         "type": "boolean"
        },
        {
         "name": "Serial_B1029",
         "rawType": "bool",
         "type": "boolean"
        },
        {
         "name": "Serial_B1030",
         "rawType": "bool",
         "type": "boolean"
        },
        {
         "name": "Serial_B1031",
         "rawType": "bool",
         "type": "boolean"
        },
        {
         "name": "Serial_B1032",
         "rawType": "bool",
         "type": "boolean"
        },
        {
         "name": "Serial_B1034",
         "rawType": "bool",
         "type": "boolean"
        },
        {
         "name": "Serial_B1035",
         "rawType": "bool",
         "type": "boolean"
        },
        {
         "name": "Serial_B1036",
         "rawType": "bool",
         "type": "boolean"
        },
        {
         "name": "Serial_B1037",
         "rawType": "bool",
         "type": "boolean"
        },
        {
         "name": "Serial_B1038",
         "rawType": "bool",
         "type": "boolean"
        },
        {
         "name": "Serial_B1039",
         "rawType": "bool",
         "type": "boolean"
        },
        {
         "name": "Serial_B1040",
         "rawType": "bool",
         "type": "boolean"
        },
        {
         "name": "Serial_B1041",
         "rawType": "bool",
         "type": "boolean"
        },
        {
         "name": "Serial_B1042",
         "rawType": "bool",
         "type": "boolean"
        },
        {
         "name": "Serial_B1043",
         "rawType": "bool",
         "type": "boolean"
        },
        {
         "name": "Serial_B1044",
         "rawType": "bool",
         "type": "boolean"
        },
        {
         "name": "Serial_B1045",
         "rawType": "bool",
         "type": "boolean"
        },
        {
         "name": "Serial_B1046",
         "rawType": "bool",
         "type": "boolean"
        },
        {
         "name": "Serial_B1047",
         "rawType": "bool",
         "type": "boolean"
        },
        {
         "name": "Serial_B1048",
         "rawType": "bool",
         "type": "boolean"
        },
        {
         "name": "Serial_B1049",
         "rawType": "bool",
         "type": "boolean"
        },
        {
         "name": "Serial_B1050",
         "rawType": "bool",
         "type": "boolean"
        },
        {
         "name": "Serial_B1051",
         "rawType": "bool",
         "type": "boolean"
        },
        {
         "name": "Serial_B1054",
         "rawType": "bool",
         "type": "boolean"
        },
        {
         "name": "Serial_B1056",
         "rawType": "bool",
         "type": "boolean"
        },
        {
         "name": "Serial_B1058",
         "rawType": "bool",
         "type": "boolean"
        },
        {
         "name": "Serial_B1059",
         "rawType": "bool",
         "type": "boolean"
        },
        {
         "name": "Serial_B1060",
         "rawType": "bool",
         "type": "boolean"
        },
        {
         "name": "Serial_B1062",
         "rawType": "bool",
         "type": "boolean"
        }
       ],
       "ref": "7a551569-5333-4a93-8102-f056c188596a",
       "rows": [
        [
         "0",
         "1",
         "6123.547647058824",
         "1",
         "False",
         "False",
         "False",
         "1.0",
         "0",
         "False",
         "False",
         "False",
         "False",
         "False",
         "True",
         "False",
         "False",
         "False",
         "False",
         "False",
         "True",
         "False",
         "False",
         "False",
         "False",
         "False",
         "False",
         "False",
         "True",
         "False",
         "False",
         "False",
         "False",
         "False",
         "False",
         "False",
         "False",
         "False",
         "False",
         "False",
         "False",
         "False",
         "False",
         "False",
         "False",
         "False",
         "False",
         "False",
         "False",
         "False",
         "False",
         "False",
         "False",
         "False",
         "False",
         "False",
         "False",
         "False",
         "False",
         "False",
         "False",
         "False",
         "False",
         "False",
         "False",
         "False",
         "False",
         "False",
         "False",
         "False",
         "False",
         "False",
         "False",
         "False",
         "False",
         "False",
         "False",
         "False",
         "False",
         "False",
         "False"
        ],
        [
         "1",
         "2",
         "525.0",
         "1",
         "False",
         "False",
         "False",
         "1.0",
         "0",
         "False",
         "False",
         "False",
         "False",
         "False",
         "True",
         "False",
         "False",
         "False",
         "False",
         "False",
         "True",
         "False",
         "False",
         "False",
         "False",
         "False",
         "False",
         "False",
         "False",
         "True",
         "False",
         "False",
         "False",
         "False",
         "False",
         "False",
         "False",
         "False",
         "False",
         "False",
         "False",
         "False",
         "False",
         "False",
         "False",
         "False",
         "False",
         "False",
         "False",
         "False",
         "False",
         "False",
         "False",
         "False",
         "False",
         "False",
         "False",
         "False",
         "False",
         "False",
         "False",
         "False",
         "False",
         "False",
         "False",
         "False",
         "False",
         "False",
         "False",
         "False",
         "False",
         "False",
         "False",
         "False",
         "False",
         "False",
         "False",
         "False",
         "False",
         "False",
         "False"
        ],
        [
         "2",
         "3",
         "677.0",
         "1",
         "False",
         "False",
         "False",
         "1.0",
         "0",
         "False",
         "False",
         "False",
         "False",
         "True",
         "False",
         "False",
         "False",
         "False",
         "False",
         "False",
         "True",
         "False",
         "False",
         "False",
         "False",
         "False",
         "False",
         "False",
         "False",
         "False",
         "True",
         "False",
         "False",
         "False",
         "False",
         "False",
         "False",
         "False",
         "False",
         "False",
         "False",
         "False",
         "False",
         "False",
         "False",
         "False",
         "False",
         "False",
         "False",
         "False",
         "False",
         "False",
         "False",
         "False",
         "False",
         "False",
         "False",
         "False",
         "False",
         "False",
         "False",
         "False",
         "False",
         "False",
         "False",
         "False",
         "False",
         "False",
         "False",
         "False",
         "False",
         "False",
         "False",
         "False",
         "False",
         "False",
         "False",
         "False",
         "False",
         "False",
         "False"
        ],
        [
         "3",
         "4",
         "500.0",
         "1",
         "False",
         "False",
         "False",
         "1.0",
         "0",
         "False",
         "False",
         "False",
         "False",
         "False",
         "False",
         "False",
         "True",
         "False",
         "False",
         "False",
         "False",
         "False",
         "True",
         "False",
         "False",
         "False",
         "False",
         "False",
         "False",
         "False",
         "False",
         "True",
         "False",
         "False",
         "False",
         "False",
         "False",
         "False",
         "False",
         "False",
         "False",
         "False",
         "False",
         "False",
         "False",
         "False",
         "False",
         "False",
         "False",
         "False",
         "False",
         "False",
         "False",
         "False",
         "False",
         "False",
         "False",
         "False",
         "False",
         "False",
         "False",
         "False",
         "False",
         "False",
         "False",
         "False",
         "False",
         "False",
         "False",
         "False",
         "False",
         "False",
         "False",
         "False",
         "False",
         "False",
         "False",
         "False",
         "False",
         "False",
         "False"
        ],
        [
         "4",
         "5",
         "3170.0",
         "1",
         "False",
         "False",
         "False",
         "1.0",
         "0",
         "False",
         "False",
         "True",
         "False",
         "False",
         "False",
         "False",
         "False",
         "False",
         "False",
         "False",
         "True",
         "False",
         "False",
         "False",
         "False",
         "False",
         "False",
         "False",
         "False",
         "False",
         "False",
         "False",
         "True",
         "False",
         "False",
         "False",
         "False",
         "False",
         "False",
         "False",
         "False",
         "False",
         "False",
         "False",
         "False",
         "False",
         "False",
         "False",
         "False",
         "False",
         "False",
         "False",
         "False",
         "False",
         "False",
         "False",
         "False",
         "False",
         "False",
         "False",
         "False",
         "False",
         "False",
         "False",
         "False",
         "False",
         "False",
         "False",
         "False",
         "False",
         "False",
         "False",
         "False",
         "False",
         "False",
         "False",
         "False",
         "False",
         "False",
         "False",
         "False"
        ]
       ],
       "shape": {
        "columns": 80,
        "rows": 5
       }
      },
      "text/html": [
       "<div>\n",
       "<style scoped>\n",
       "    .dataframe tbody tr th:only-of-type {\n",
       "        vertical-align: middle;\n",
       "    }\n",
       "\n",
       "    .dataframe tbody tr th {\n",
       "        vertical-align: top;\n",
       "    }\n",
       "\n",
       "    .dataframe thead th {\n",
       "        text-align: right;\n",
       "    }\n",
       "</style>\n",
       "<table border=\"1\" class=\"dataframe\">\n",
       "  <thead>\n",
       "    <tr style=\"text-align: right;\">\n",
       "      <th></th>\n",
       "      <th>FlightNumber</th>\n",
       "      <th>PayloadMass</th>\n",
       "      <th>Flights</th>\n",
       "      <th>GridFins</th>\n",
       "      <th>Reused</th>\n",
       "      <th>Legs</th>\n",
       "      <th>Block</th>\n",
       "      <th>ReusedCount</th>\n",
       "      <th>Orbit_ES-L1</th>\n",
       "      <th>Orbit_GEO</th>\n",
       "      <th>...</th>\n",
       "      <th>Serial_B1048</th>\n",
       "      <th>Serial_B1049</th>\n",
       "      <th>Serial_B1050</th>\n",
       "      <th>Serial_B1051</th>\n",
       "      <th>Serial_B1054</th>\n",
       "      <th>Serial_B1056</th>\n",
       "      <th>Serial_B1058</th>\n",
       "      <th>Serial_B1059</th>\n",
       "      <th>Serial_B1060</th>\n",
       "      <th>Serial_B1062</th>\n",
       "    </tr>\n",
       "  </thead>\n",
       "  <tbody>\n",
       "    <tr>\n",
       "      <th>0</th>\n",
       "      <td>1</td>\n",
       "      <td>6123.547647</td>\n",
       "      <td>1</td>\n",
       "      <td>False</td>\n",
       "      <td>False</td>\n",
       "      <td>False</td>\n",
       "      <td>1.0</td>\n",
       "      <td>0</td>\n",
       "      <td>False</td>\n",
       "      <td>False</td>\n",
       "      <td>...</td>\n",
       "      <td>False</td>\n",
       "      <td>False</td>\n",
       "      <td>False</td>\n",
       "      <td>False</td>\n",
       "      <td>False</td>\n",
       "      <td>False</td>\n",
       "      <td>False</td>\n",
       "      <td>False</td>\n",
       "      <td>False</td>\n",
       "      <td>False</td>\n",
       "    </tr>\n",
       "    <tr>\n",
       "      <th>1</th>\n",
       "      <td>2</td>\n",
       "      <td>525.000000</td>\n",
       "      <td>1</td>\n",
       "      <td>False</td>\n",
       "      <td>False</td>\n",
       "      <td>False</td>\n",
       "      <td>1.0</td>\n",
       "      <td>0</td>\n",
       "      <td>False</td>\n",
       "      <td>False</td>\n",
       "      <td>...</td>\n",
       "      <td>False</td>\n",
       "      <td>False</td>\n",
       "      <td>False</td>\n",
       "      <td>False</td>\n",
       "      <td>False</td>\n",
       "      <td>False</td>\n",
       "      <td>False</td>\n",
       "      <td>False</td>\n",
       "      <td>False</td>\n",
       "      <td>False</td>\n",
       "    </tr>\n",
       "    <tr>\n",
       "      <th>2</th>\n",
       "      <td>3</td>\n",
       "      <td>677.000000</td>\n",
       "      <td>1</td>\n",
       "      <td>False</td>\n",
       "      <td>False</td>\n",
       "      <td>False</td>\n",
       "      <td>1.0</td>\n",
       "      <td>0</td>\n",
       "      <td>False</td>\n",
       "      <td>False</td>\n",
       "      <td>...</td>\n",
       "      <td>False</td>\n",
       "      <td>False</td>\n",
       "      <td>False</td>\n",
       "      <td>False</td>\n",
       "      <td>False</td>\n",
       "      <td>False</td>\n",
       "      <td>False</td>\n",
       "      <td>False</td>\n",
       "      <td>False</td>\n",
       "      <td>False</td>\n",
       "    </tr>\n",
       "    <tr>\n",
       "      <th>3</th>\n",
       "      <td>4</td>\n",
       "      <td>500.000000</td>\n",
       "      <td>1</td>\n",
       "      <td>False</td>\n",
       "      <td>False</td>\n",
       "      <td>False</td>\n",
       "      <td>1.0</td>\n",
       "      <td>0</td>\n",
       "      <td>False</td>\n",
       "      <td>False</td>\n",
       "      <td>...</td>\n",
       "      <td>False</td>\n",
       "      <td>False</td>\n",
       "      <td>False</td>\n",
       "      <td>False</td>\n",
       "      <td>False</td>\n",
       "      <td>False</td>\n",
       "      <td>False</td>\n",
       "      <td>False</td>\n",
       "      <td>False</td>\n",
       "      <td>False</td>\n",
       "    </tr>\n",
       "    <tr>\n",
       "      <th>4</th>\n",
       "      <td>5</td>\n",
       "      <td>3170.000000</td>\n",
       "      <td>1</td>\n",
       "      <td>False</td>\n",
       "      <td>False</td>\n",
       "      <td>False</td>\n",
       "      <td>1.0</td>\n",
       "      <td>0</td>\n",
       "      <td>False</td>\n",
       "      <td>False</td>\n",
       "      <td>...</td>\n",
       "      <td>False</td>\n",
       "      <td>False</td>\n",
       "      <td>False</td>\n",
       "      <td>False</td>\n",
       "      <td>False</td>\n",
       "      <td>False</td>\n",
       "      <td>False</td>\n",
       "      <td>False</td>\n",
       "      <td>False</td>\n",
       "      <td>False</td>\n",
       "    </tr>\n",
       "  </tbody>\n",
       "</table>\n",
       "<p>5 rows × 80 columns</p>\n",
       "</div>"
      ],
      "text/plain": [
       "   FlightNumber  PayloadMass  Flights  GridFins  Reused   Legs  Block  \\\n",
       "0             1  6123.547647        1     False   False  False    1.0   \n",
       "1             2   525.000000        1     False   False  False    1.0   \n",
       "2             3   677.000000        1     False   False  False    1.0   \n",
       "3             4   500.000000        1     False   False  False    1.0   \n",
       "4             5  3170.000000        1     False   False  False    1.0   \n",
       "\n",
       "   ReusedCount  Orbit_ES-L1  Orbit_GEO  ...  Serial_B1048  Serial_B1049  \\\n",
       "0            0        False      False  ...         False         False   \n",
       "1            0        False      False  ...         False         False   \n",
       "2            0        False      False  ...         False         False   \n",
       "3            0        False      False  ...         False         False   \n",
       "4            0        False      False  ...         False         False   \n",
       "\n",
       "   Serial_B1050  Serial_B1051  Serial_B1054  Serial_B1056  Serial_B1058  \\\n",
       "0         False         False         False         False         False   \n",
       "1         False         False         False         False         False   \n",
       "2         False         False         False         False         False   \n",
       "3         False         False         False         False         False   \n",
       "4         False         False         False         False         False   \n",
       "\n",
       "   Serial_B1059  Serial_B1060  Serial_B1062  \n",
       "0         False         False         False  \n",
       "1         False         False         False  \n",
       "2         False         False         False  \n",
       "3         False         False         False  \n",
       "4         False         False         False  \n",
       "\n",
       "[5 rows x 80 columns]"
      ]
     },
     "execution_count": 12,
     "metadata": {},
     "output_type": "execute_result"
    }
   ],
   "source": [
    "# OneHotEncoded dummy variables on categorical columns\n",
    "features_one_hot = pd.get_dummies(features, columns=['Orbit', 'LaunchSite', 'LandingPad', 'Serial'])\n",
    "features_one_hot.head()"
   ]
  },
  {
   "cell_type": "markdown",
   "metadata": {},
   "source": [
    "Now that our <code>features_one_hot</code> dataframe only contains numbers, we can cast the entire dataframe to a variable type <code>float64</code>\n"
   ]
  },
  {
   "cell_type": "code",
   "execution_count": 13,
   "metadata": {
    "trusted": true
   },
   "outputs": [
    {
     "data": {
      "application/vnd.microsoft.datawrangler.viewer.v0+json": {
       "columns": [
        {
         "name": "index",
         "rawType": "int64",
         "type": "integer"
        },
        {
         "name": "FlightNumber",
         "rawType": "float64",
         "type": "float"
        },
        {
         "name": "PayloadMass",
         "rawType": "float64",
         "type": "float"
        },
        {
         "name": "Flights",
         "rawType": "float64",
         "type": "float"
        },
        {
         "name": "GridFins",
         "rawType": "float64",
         "type": "float"
        },
        {
         "name": "Reused",
         "rawType": "float64",
         "type": "float"
        },
        {
         "name": "Legs",
         "rawType": "float64",
         "type": "float"
        },
        {
         "name": "Block",
         "rawType": "float64",
         "type": "float"
        },
        {
         "name": "ReusedCount",
         "rawType": "float64",
         "type": "float"
        },
        {
         "name": "Orbit_ES-L1",
         "rawType": "float64",
         "type": "float"
        },
        {
         "name": "Orbit_GEO",
         "rawType": "float64",
         "type": "float"
        },
        {
         "name": "Orbit_GTO",
         "rawType": "float64",
         "type": "float"
        },
        {
         "name": "Orbit_HEO",
         "rawType": "float64",
         "type": "float"
        },
        {
         "name": "Orbit_ISS",
         "rawType": "float64",
         "type": "float"
        },
        {
         "name": "Orbit_LEO",
         "rawType": "float64",
         "type": "float"
        },
        {
         "name": "Orbit_MEO",
         "rawType": "float64",
         "type": "float"
        },
        {
         "name": "Orbit_PO",
         "rawType": "float64",
         "type": "float"
        },
        {
         "name": "Orbit_SO",
         "rawType": "float64",
         "type": "float"
        },
        {
         "name": "Orbit_SSO",
         "rawType": "float64",
         "type": "float"
        },
        {
         "name": "Orbit_VLEO",
         "rawType": "float64",
         "type": "float"
        },
        {
         "name": "LaunchSite_CCSFS SLC 40",
         "rawType": "float64",
         "type": "float"
        },
        {
         "name": "LaunchSite_KSC LC 39A",
         "rawType": "float64",
         "type": "float"
        },
        {
         "name": "LaunchSite_VAFB SLC 4E",
         "rawType": "float64",
         "type": "float"
        },
        {
         "name": "LandingPad_5e9e3032383ecb267a34e7c7",
         "rawType": "float64",
         "type": "float"
        },
        {
         "name": "LandingPad_5e9e3032383ecb554034e7c9",
         "rawType": "float64",
         "type": "float"
        },
        {
         "name": "LandingPad_5e9e3032383ecb6bb234e7ca",
         "rawType": "float64",
         "type": "float"
        },
        {
         "name": "LandingPad_5e9e3032383ecb761634e7cb",
         "rawType": "float64",
         "type": "float"
        },
        {
         "name": "LandingPad_5e9e3033383ecbb9e534e7cc",
         "rawType": "float64",
         "type": "float"
        },
        {
         "name": "Serial_B0003",
         "rawType": "float64",
         "type": "float"
        },
        {
         "name": "Serial_B0005",
         "rawType": "float64",
         "type": "float"
        },
        {
         "name": "Serial_B0007",
         "rawType": "float64",
         "type": "float"
        },
        {
         "name": "Serial_B1003",
         "rawType": "float64",
         "type": "float"
        },
        {
         "name": "Serial_B1004",
         "rawType": "float64",
         "type": "float"
        },
        {
         "name": "Serial_B1005",
         "rawType": "float64",
         "type": "float"
        },
        {
         "name": "Serial_B1006",
         "rawType": "float64",
         "type": "float"
        },
        {
         "name": "Serial_B1007",
         "rawType": "float64",
         "type": "float"
        },
        {
         "name": "Serial_B1008",
         "rawType": "float64",
         "type": "float"
        },
        {
         "name": "Serial_B1010",
         "rawType": "float64",
         "type": "float"
        },
        {
         "name": "Serial_B1011",
         "rawType": "float64",
         "type": "float"
        },
        {
         "name": "Serial_B1012",
         "rawType": "float64",
         "type": "float"
        },
        {
         "name": "Serial_B1013",
         "rawType": "float64",
         "type": "float"
        },
        {
         "name": "Serial_B1015",
         "rawType": "float64",
         "type": "float"
        },
        {
         "name": "Serial_B1016",
         "rawType": "float64",
         "type": "float"
        },
        {
         "name": "Serial_B1017",
         "rawType": "float64",
         "type": "float"
        },
        {
         "name": "Serial_B1018",
         "rawType": "float64",
         "type": "float"
        },
        {
         "name": "Serial_B1019",
         "rawType": "float64",
         "type": "float"
        },
        {
         "name": "Serial_B1020",
         "rawType": "float64",
         "type": "float"
        },
        {
         "name": "Serial_B1021",
         "rawType": "float64",
         "type": "float"
        },
        {
         "name": "Serial_B1022",
         "rawType": "float64",
         "type": "float"
        },
        {
         "name": "Serial_B1023",
         "rawType": "float64",
         "type": "float"
        },
        {
         "name": "Serial_B1025",
         "rawType": "float64",
         "type": "float"
        },
        {
         "name": "Serial_B1026",
         "rawType": "float64",
         "type": "float"
        },
        {
         "name": "Serial_B1028",
         "rawType": "float64",
         "type": "float"
        },
        {
         "name": "Serial_B1029",
         "rawType": "float64",
         "type": "float"
        },
        {
         "name": "Serial_B1030",
         "rawType": "float64",
         "type": "float"
        },
        {
         "name": "Serial_B1031",
         "rawType": "float64",
         "type": "float"
        },
        {
         "name": "Serial_B1032",
         "rawType": "float64",
         "type": "float"
        },
        {
         "name": "Serial_B1034",
         "rawType": "float64",
         "type": "float"
        },
        {
         "name": "Serial_B1035",
         "rawType": "float64",
         "type": "float"
        },
        {
         "name": "Serial_B1036",
         "rawType": "float64",
         "type": "float"
        },
        {
         "name": "Serial_B1037",
         "rawType": "float64",
         "type": "float"
        },
        {
         "name": "Serial_B1038",
         "rawType": "float64",
         "type": "float"
        },
        {
         "name": "Serial_B1039",
         "rawType": "float64",
         "type": "float"
        },
        {
         "name": "Serial_B1040",
         "rawType": "float64",
         "type": "float"
        },
        {
         "name": "Serial_B1041",
         "rawType": "float64",
         "type": "float"
        },
        {
         "name": "Serial_B1042",
         "rawType": "float64",
         "type": "float"
        },
        {
         "name": "Serial_B1043",
         "rawType": "float64",
         "type": "float"
        },
        {
         "name": "Serial_B1044",
         "rawType": "float64",
         "type": "float"
        },
        {
         "name": "Serial_B1045",
         "rawType": "float64",
         "type": "float"
        },
        {
         "name": "Serial_B1046",
         "rawType": "float64",
         "type": "float"
        },
        {
         "name": "Serial_B1047",
         "rawType": "float64",
         "type": "float"
        },
        {
         "name": "Serial_B1048",
         "rawType": "float64",
         "type": "float"
        },
        {
         "name": "Serial_B1049",
         "rawType": "float64",
         "type": "float"
        },
        {
         "name": "Serial_B1050",
         "rawType": "float64",
         "type": "float"
        },
        {
         "name": "Serial_B1051",
         "rawType": "float64",
         "type": "float"
        },
        {
         "name": "Serial_B1054",
         "rawType": "float64",
         "type": "float"
        },
        {
         "name": "Serial_B1056",
         "rawType": "float64",
         "type": "float"
        },
        {
         "name": "Serial_B1058",
         "rawType": "float64",
         "type": "float"
        },
        {
         "name": "Serial_B1059",
         "rawType": "float64",
         "type": "float"
        },
        {
         "name": "Serial_B1060",
         "rawType": "float64",
         "type": "float"
        },
        {
         "name": "Serial_B1062",
         "rawType": "float64",
         "type": "float"
        }
       ],
       "ref": "a60a47e4-478a-43a0-a967-ddceb57f08de",
       "rows": [
        [
         "0",
         "1.0",
         "6123.547647058824",
         "1.0",
         "0.0",
         "0.0",
         "0.0",
         "1.0",
         "0.0",
         "0.0",
         "0.0",
         "0.0",
         "0.0",
         "0.0",
         "1.0",
         "0.0",
         "0.0",
         "0.0",
         "0.0",
         "0.0",
         "1.0",
         "0.0",
         "0.0",
         "0.0",
         "0.0",
         "0.0",
         "0.0",
         "0.0",
         "1.0",
         "0.0",
         "0.0",
         "0.0",
         "0.0",
         "0.0",
         "0.0",
         "0.0",
         "0.0",
         "0.0",
         "0.0",
         "0.0",
         "0.0",
         "0.0",
         "0.0",
         "0.0",
         "0.0",
         "0.0",
         "0.0",
         "0.0",
         "0.0",
         "0.0",
         "0.0",
         "0.0",
         "0.0",
         "0.0",
         "0.0",
         "0.0",
         "0.0",
         "0.0",
         "0.0",
         "0.0",
         "0.0",
         "0.0",
         "0.0",
         "0.0",
         "0.0",
         "0.0",
         "0.0",
         "0.0",
         "0.0",
         "0.0",
         "0.0",
         "0.0",
         "0.0",
         "0.0",
         "0.0",
         "0.0",
         "0.0",
         "0.0",
         "0.0",
         "0.0",
         "0.0"
        ],
        [
         "1",
         "2.0",
         "525.0",
         "1.0",
         "0.0",
         "0.0",
         "0.0",
         "1.0",
         "0.0",
         "0.0",
         "0.0",
         "0.0",
         "0.0",
         "0.0",
         "1.0",
         "0.0",
         "0.0",
         "0.0",
         "0.0",
         "0.0",
         "1.0",
         "0.0",
         "0.0",
         "0.0",
         "0.0",
         "0.0",
         "0.0",
         "0.0",
         "0.0",
         "1.0",
         "0.0",
         "0.0",
         "0.0",
         "0.0",
         "0.0",
         "0.0",
         "0.0",
         "0.0",
         "0.0",
         "0.0",
         "0.0",
         "0.0",
         "0.0",
         "0.0",
         "0.0",
         "0.0",
         "0.0",
         "0.0",
         "0.0",
         "0.0",
         "0.0",
         "0.0",
         "0.0",
         "0.0",
         "0.0",
         "0.0",
         "0.0",
         "0.0",
         "0.0",
         "0.0",
         "0.0",
         "0.0",
         "0.0",
         "0.0",
         "0.0",
         "0.0",
         "0.0",
         "0.0",
         "0.0",
         "0.0",
         "0.0",
         "0.0",
         "0.0",
         "0.0",
         "0.0",
         "0.0",
         "0.0",
         "0.0",
         "0.0",
         "0.0",
         "0.0"
        ],
        [
         "2",
         "3.0",
         "677.0",
         "1.0",
         "0.0",
         "0.0",
         "0.0",
         "1.0",
         "0.0",
         "0.0",
         "0.0",
         "0.0",
         "0.0",
         "1.0",
         "0.0",
         "0.0",
         "0.0",
         "0.0",
         "0.0",
         "0.0",
         "1.0",
         "0.0",
         "0.0",
         "0.0",
         "0.0",
         "0.0",
         "0.0",
         "0.0",
         "0.0",
         "0.0",
         "1.0",
         "0.0",
         "0.0",
         "0.0",
         "0.0",
         "0.0",
         "0.0",
         "0.0",
         "0.0",
         "0.0",
         "0.0",
         "0.0",
         "0.0",
         "0.0",
         "0.0",
         "0.0",
         "0.0",
         "0.0",
         "0.0",
         "0.0",
         "0.0",
         "0.0",
         "0.0",
         "0.0",
         "0.0",
         "0.0",
         "0.0",
         "0.0",
         "0.0",
         "0.0",
         "0.0",
         "0.0",
         "0.0",
         "0.0",
         "0.0",
         "0.0",
         "0.0",
         "0.0",
         "0.0",
         "0.0",
         "0.0",
         "0.0",
         "0.0",
         "0.0",
         "0.0",
         "0.0",
         "0.0",
         "0.0",
         "0.0",
         "0.0",
         "0.0"
        ],
        [
         "3",
         "4.0",
         "500.0",
         "1.0",
         "0.0",
         "0.0",
         "0.0",
         "1.0",
         "0.0",
         "0.0",
         "0.0",
         "0.0",
         "0.0",
         "0.0",
         "0.0",
         "0.0",
         "1.0",
         "0.0",
         "0.0",
         "0.0",
         "0.0",
         "0.0",
         "1.0",
         "0.0",
         "0.0",
         "0.0",
         "0.0",
         "0.0",
         "0.0",
         "0.0",
         "0.0",
         "1.0",
         "0.0",
         "0.0",
         "0.0",
         "0.0",
         "0.0",
         "0.0",
         "0.0",
         "0.0",
         "0.0",
         "0.0",
         "0.0",
         "0.0",
         "0.0",
         "0.0",
         "0.0",
         "0.0",
         "0.0",
         "0.0",
         "0.0",
         "0.0",
         "0.0",
         "0.0",
         "0.0",
         "0.0",
         "0.0",
         "0.0",
         "0.0",
         "0.0",
         "0.0",
         "0.0",
         "0.0",
         "0.0",
         "0.0",
         "0.0",
         "0.0",
         "0.0",
         "0.0",
         "0.0",
         "0.0",
         "0.0",
         "0.0",
         "0.0",
         "0.0",
         "0.0",
         "0.0",
         "0.0",
         "0.0",
         "0.0",
         "0.0"
        ],
        [
         "4",
         "5.0",
         "3170.0",
         "1.0",
         "0.0",
         "0.0",
         "0.0",
         "1.0",
         "0.0",
         "0.0",
         "0.0",
         "1.0",
         "0.0",
         "0.0",
         "0.0",
         "0.0",
         "0.0",
         "0.0",
         "0.0",
         "0.0",
         "1.0",
         "0.0",
         "0.0",
         "0.0",
         "0.0",
         "0.0",
         "0.0",
         "0.0",
         "0.0",
         "0.0",
         "0.0",
         "0.0",
         "1.0",
         "0.0",
         "0.0",
         "0.0",
         "0.0",
         "0.0",
         "0.0",
         "0.0",
         "0.0",
         "0.0",
         "0.0",
         "0.0",
         "0.0",
         "0.0",
         "0.0",
         "0.0",
         "0.0",
         "0.0",
         "0.0",
         "0.0",
         "0.0",
         "0.0",
         "0.0",
         "0.0",
         "0.0",
         "0.0",
         "0.0",
         "0.0",
         "0.0",
         "0.0",
         "0.0",
         "0.0",
         "0.0",
         "0.0",
         "0.0",
         "0.0",
         "0.0",
         "0.0",
         "0.0",
         "0.0",
         "0.0",
         "0.0",
         "0.0",
         "0.0",
         "0.0",
         "0.0",
         "0.0",
         "0.0",
         "0.0"
        ]
       ],
       "shape": {
        "columns": 80,
        "rows": 5
       }
      },
      "text/html": [
       "<div>\n",
       "<style scoped>\n",
       "    .dataframe tbody tr th:only-of-type {\n",
       "        vertical-align: middle;\n",
       "    }\n",
       "\n",
       "    .dataframe tbody tr th {\n",
       "        vertical-align: top;\n",
       "    }\n",
       "\n",
       "    .dataframe thead th {\n",
       "        text-align: right;\n",
       "    }\n",
       "</style>\n",
       "<table border=\"1\" class=\"dataframe\">\n",
       "  <thead>\n",
       "    <tr style=\"text-align: right;\">\n",
       "      <th></th>\n",
       "      <th>FlightNumber</th>\n",
       "      <th>PayloadMass</th>\n",
       "      <th>Flights</th>\n",
       "      <th>GridFins</th>\n",
       "      <th>Reused</th>\n",
       "      <th>Legs</th>\n",
       "      <th>Block</th>\n",
       "      <th>ReusedCount</th>\n",
       "      <th>Orbit_ES-L1</th>\n",
       "      <th>Orbit_GEO</th>\n",
       "      <th>...</th>\n",
       "      <th>Serial_B1048</th>\n",
       "      <th>Serial_B1049</th>\n",
       "      <th>Serial_B1050</th>\n",
       "      <th>Serial_B1051</th>\n",
       "      <th>Serial_B1054</th>\n",
       "      <th>Serial_B1056</th>\n",
       "      <th>Serial_B1058</th>\n",
       "      <th>Serial_B1059</th>\n",
       "      <th>Serial_B1060</th>\n",
       "      <th>Serial_B1062</th>\n",
       "    </tr>\n",
       "  </thead>\n",
       "  <tbody>\n",
       "    <tr>\n",
       "      <th>0</th>\n",
       "      <td>1.0</td>\n",
       "      <td>6123.547647</td>\n",
       "      <td>1.0</td>\n",
       "      <td>0.0</td>\n",
       "      <td>0.0</td>\n",
       "      <td>0.0</td>\n",
       "      <td>1.0</td>\n",
       "      <td>0.0</td>\n",
       "      <td>0.0</td>\n",
       "      <td>0.0</td>\n",
       "      <td>...</td>\n",
       "      <td>0.0</td>\n",
       "      <td>0.0</td>\n",
       "      <td>0.0</td>\n",
       "      <td>0.0</td>\n",
       "      <td>0.0</td>\n",
       "      <td>0.0</td>\n",
       "      <td>0.0</td>\n",
       "      <td>0.0</td>\n",
       "      <td>0.0</td>\n",
       "      <td>0.0</td>\n",
       "    </tr>\n",
       "    <tr>\n",
       "      <th>1</th>\n",
       "      <td>2.0</td>\n",
       "      <td>525.000000</td>\n",
       "      <td>1.0</td>\n",
       "      <td>0.0</td>\n",
       "      <td>0.0</td>\n",
       "      <td>0.0</td>\n",
       "      <td>1.0</td>\n",
       "      <td>0.0</td>\n",
       "      <td>0.0</td>\n",
       "      <td>0.0</td>\n",
       "      <td>...</td>\n",
       "      <td>0.0</td>\n",
       "      <td>0.0</td>\n",
       "      <td>0.0</td>\n",
       "      <td>0.0</td>\n",
       "      <td>0.0</td>\n",
       "      <td>0.0</td>\n",
       "      <td>0.0</td>\n",
       "      <td>0.0</td>\n",
       "      <td>0.0</td>\n",
       "      <td>0.0</td>\n",
       "    </tr>\n",
       "    <tr>\n",
       "      <th>2</th>\n",
       "      <td>3.0</td>\n",
       "      <td>677.000000</td>\n",
       "      <td>1.0</td>\n",
       "      <td>0.0</td>\n",
       "      <td>0.0</td>\n",
       "      <td>0.0</td>\n",
       "      <td>1.0</td>\n",
       "      <td>0.0</td>\n",
       "      <td>0.0</td>\n",
       "      <td>0.0</td>\n",
       "      <td>...</td>\n",
       "      <td>0.0</td>\n",
       "      <td>0.0</td>\n",
       "      <td>0.0</td>\n",
       "      <td>0.0</td>\n",
       "      <td>0.0</td>\n",
       "      <td>0.0</td>\n",
       "      <td>0.0</td>\n",
       "      <td>0.0</td>\n",
       "      <td>0.0</td>\n",
       "      <td>0.0</td>\n",
       "    </tr>\n",
       "    <tr>\n",
       "      <th>3</th>\n",
       "      <td>4.0</td>\n",
       "      <td>500.000000</td>\n",
       "      <td>1.0</td>\n",
       "      <td>0.0</td>\n",
       "      <td>0.0</td>\n",
       "      <td>0.0</td>\n",
       "      <td>1.0</td>\n",
       "      <td>0.0</td>\n",
       "      <td>0.0</td>\n",
       "      <td>0.0</td>\n",
       "      <td>...</td>\n",
       "      <td>0.0</td>\n",
       "      <td>0.0</td>\n",
       "      <td>0.0</td>\n",
       "      <td>0.0</td>\n",
       "      <td>0.0</td>\n",
       "      <td>0.0</td>\n",
       "      <td>0.0</td>\n",
       "      <td>0.0</td>\n",
       "      <td>0.0</td>\n",
       "      <td>0.0</td>\n",
       "    </tr>\n",
       "    <tr>\n",
       "      <th>4</th>\n",
       "      <td>5.0</td>\n",
       "      <td>3170.000000</td>\n",
       "      <td>1.0</td>\n",
       "      <td>0.0</td>\n",
       "      <td>0.0</td>\n",
       "      <td>0.0</td>\n",
       "      <td>1.0</td>\n",
       "      <td>0.0</td>\n",
       "      <td>0.0</td>\n",
       "      <td>0.0</td>\n",
       "      <td>...</td>\n",
       "      <td>0.0</td>\n",
       "      <td>0.0</td>\n",
       "      <td>0.0</td>\n",
       "      <td>0.0</td>\n",
       "      <td>0.0</td>\n",
       "      <td>0.0</td>\n",
       "      <td>0.0</td>\n",
       "      <td>0.0</td>\n",
       "      <td>0.0</td>\n",
       "      <td>0.0</td>\n",
       "    </tr>\n",
       "  </tbody>\n",
       "</table>\n",
       "<p>5 rows × 80 columns</p>\n",
       "</div>"
      ],
      "text/plain": [
       "   FlightNumber  PayloadMass  Flights  GridFins  Reused  Legs  Block  \\\n",
       "0           1.0  6123.547647      1.0       0.0     0.0   0.0    1.0   \n",
       "1           2.0   525.000000      1.0       0.0     0.0   0.0    1.0   \n",
       "2           3.0   677.000000      1.0       0.0     0.0   0.0    1.0   \n",
       "3           4.0   500.000000      1.0       0.0     0.0   0.0    1.0   \n",
       "4           5.0  3170.000000      1.0       0.0     0.0   0.0    1.0   \n",
       "\n",
       "   ReusedCount  Orbit_ES-L1  Orbit_GEO  ...  Serial_B1048  Serial_B1049  \\\n",
       "0          0.0          0.0        0.0  ...           0.0           0.0   \n",
       "1          0.0          0.0        0.0  ...           0.0           0.0   \n",
       "2          0.0          0.0        0.0  ...           0.0           0.0   \n",
       "3          0.0          0.0        0.0  ...           0.0           0.0   \n",
       "4          0.0          0.0        0.0  ...           0.0           0.0   \n",
       "\n",
       "   Serial_B1050  Serial_B1051  Serial_B1054  Serial_B1056  Serial_B1058  \\\n",
       "0           0.0           0.0           0.0           0.0           0.0   \n",
       "1           0.0           0.0           0.0           0.0           0.0   \n",
       "2           0.0           0.0           0.0           0.0           0.0   \n",
       "3           0.0           0.0           0.0           0.0           0.0   \n",
       "4           0.0           0.0           0.0           0.0           0.0   \n",
       "\n",
       "   Serial_B1059  Serial_B1060  Serial_B1062  \n",
       "0           0.0           0.0           0.0  \n",
       "1           0.0           0.0           0.0  \n",
       "2           0.0           0.0           0.0  \n",
       "3           0.0           0.0           0.0  \n",
       "4           0.0           0.0           0.0  \n",
       "\n",
       "[5 rows x 80 columns]"
      ]
     },
     "execution_count": 13,
     "metadata": {},
     "output_type": "execute_result"
    }
   ],
   "source": [
    "features_one_hot = features_one_hot.astype('float64')\n",
    "features_one_hot.head()"
   ]
  },
  {
   "cell_type": "markdown",
   "metadata": {},
   "source": [
    "We can now export it to a <b>CSV</b> for the next section:"
   ]
  },
  {
   "cell_type": "code",
   "execution_count": 14,
   "metadata": {},
   "outputs": [],
   "source": [
    "features_one_hot.to_csv('spacex_dataset_features.csv', index=False)"
   ]
  }
 ],
 "metadata": {
  "kernelspec": {
   "display_name": ".venv",
   "language": "python",
   "name": "python3"
  },
  "language_info": {
   "codemirror_mode": {
    "name": "ipython",
    "version": 3
   },
   "file_extension": ".py",
   "mimetype": "text/x-python",
   "name": "python",
   "nbconvert_exporter": "python",
   "pygments_lexer": "ipython3",
   "version": "3.13.7"
  }
 },
 "nbformat": 4,
 "nbformat_minor": 4
}
