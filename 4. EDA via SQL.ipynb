{
 "cells": [
  {
   "cell_type": "markdown",
   "metadata": {},
   "source": [
    "<div style=\"text-align:center; cursor: auto;\">\n",
    "    <a href=\"https://www.credly.com/badges/5277e6b4-acf1-4f18-b83f-05d1d2ef3059/public_url\" target=\"_blank\">\n",
    "        <img \n",
    "            src=\"applied-data-science-capstone.png\" \n",
    "            width=\"150\" \n",
    "            alt=\"IBM Applied Data Science Badge\" \n",
    "            style=\"object-fit: cover; border-radius: 50%;\">\n",
    "    </a>\n",
    "</div>\n",
    "\n",
    "**<center><h2>EDA via SQL</h2></center>**"
   ]
  },
  {
   "cell_type": "markdown",
   "metadata": {},
   "source": [
    "## Overview of the DataSet\n",
    "\n",
    "SpaceX has gained worldwide attention for a series of historic milestones. \n",
    "\n",
    "It is the only private company ever to return a spacecraft from low-earth orbit, which it first accomplished in December 2010.\n",
    "SpaceX advertises Falcon 9 rocket launches on its website with a cost of 62 million dollars wheras other providers cost upward of 165 million dollars each, much of the savings is because Space X can reuse the first stage. \n",
    "\n",
    "\n",
    "Therefore if we can determine if the first stage will land, we can determine the cost of a launch. \n",
    "\n",
    "This information can be used if an alternate company wants to bid against SpaceX for a rocket launch.\n",
    "\n",
    "This dataset includes a record for each payload carried during a SpaceX mission into outer space.\n"
   ]
  },
  {
   "cell_type": "markdown",
   "metadata": {},
   "source": [
    "### Connect to the database"
   ]
  },
  {
   "cell_type": "code",
   "execution_count": 1,
   "metadata": {},
   "outputs": [],
   "source": [
    "import csv, sqlite3\n",
    "import pandas as pd"
   ]
  },
  {
   "cell_type": "code",
   "execution_count": 3,
   "metadata": {},
   "outputs": [],
   "source": [
    "# specifies the database connection URL\n",
    "con = sqlite3.connect(\"my_data1.db\")\n",
    "cur = con.cursor()"
   ]
  },
  {
   "cell_type": "code",
   "execution_count": 5,
   "metadata": {
    "tags": []
   },
   "outputs": [
    {
     "data": {
      "text/html": [
       "<div>\n",
       "<style scoped>\n",
       "    .dataframe tbody tr th:only-of-type {\n",
       "        vertical-align: middle;\n",
       "    }\n",
       "\n",
       "    .dataframe tbody tr th {\n",
       "        vertical-align: top;\n",
       "    }\n",
       "\n",
       "    .dataframe thead th {\n",
       "        text-align: right;\n",
       "    }\n",
       "</style>\n",
       "<table border=\"1\" class=\"dataframe\">\n",
       "  <thead>\n",
       "    <tr style=\"text-align: right;\">\n",
       "      <th></th>\n",
       "      <th>Date</th>\n",
       "      <th>Time (UTC)</th>\n",
       "      <th>Booster_Version</th>\n",
       "      <th>Launch_Site</th>\n",
       "      <th>Payload</th>\n",
       "      <th>PAYLOAD_MASS__KG_</th>\n",
       "      <th>Orbit</th>\n",
       "      <th>Customer</th>\n",
       "      <th>Mission_Outcome</th>\n",
       "      <th>Landing_Outcome</th>\n",
       "    </tr>\n",
       "  </thead>\n",
       "  <tbody>\n",
       "    <tr>\n",
       "      <th>0</th>\n",
       "      <td>2010-06-04</td>\n",
       "      <td>18:45:00</td>\n",
       "      <td>F9 v1.0  B0003</td>\n",
       "      <td>CCAFS LC-40</td>\n",
       "      <td>Dragon Spacecraft Qualification Unit</td>\n",
       "      <td>0</td>\n",
       "      <td>LEO</td>\n",
       "      <td>SpaceX</td>\n",
       "      <td>Success</td>\n",
       "      <td>Failure (parachute)</td>\n",
       "    </tr>\n",
       "    <tr>\n",
       "      <th>1</th>\n",
       "      <td>2010-12-08</td>\n",
       "      <td>15:43:00</td>\n",
       "      <td>F9 v1.0  B0004</td>\n",
       "      <td>CCAFS LC-40</td>\n",
       "      <td>Dragon demo flight C1, two CubeSats, barrel of...</td>\n",
       "      <td>0</td>\n",
       "      <td>LEO (ISS)</td>\n",
       "      <td>NASA (COTS) NRO</td>\n",
       "      <td>Success</td>\n",
       "      <td>Failure (parachute)</td>\n",
       "    </tr>\n",
       "    <tr>\n",
       "      <th>2</th>\n",
       "      <td>2012-05-22</td>\n",
       "      <td>7:44:00</td>\n",
       "      <td>F9 v1.0  B0005</td>\n",
       "      <td>CCAFS LC-40</td>\n",
       "      <td>Dragon demo flight C2</td>\n",
       "      <td>525</td>\n",
       "      <td>LEO (ISS)</td>\n",
       "      <td>NASA (COTS)</td>\n",
       "      <td>Success</td>\n",
       "      <td>No attempt</td>\n",
       "    </tr>\n",
       "    <tr>\n",
       "      <th>3</th>\n",
       "      <td>2012-10-08</td>\n",
       "      <td>0:35:00</td>\n",
       "      <td>F9 v1.0  B0006</td>\n",
       "      <td>CCAFS LC-40</td>\n",
       "      <td>SpaceX CRS-1</td>\n",
       "      <td>500</td>\n",
       "      <td>LEO (ISS)</td>\n",
       "      <td>NASA (CRS)</td>\n",
       "      <td>Success</td>\n",
       "      <td>No attempt</td>\n",
       "    </tr>\n",
       "    <tr>\n",
       "      <th>4</th>\n",
       "      <td>2013-03-01</td>\n",
       "      <td>15:10:00</td>\n",
       "      <td>F9 v1.0  B0007</td>\n",
       "      <td>CCAFS LC-40</td>\n",
       "      <td>SpaceX CRS-2</td>\n",
       "      <td>677</td>\n",
       "      <td>LEO (ISS)</td>\n",
       "      <td>NASA (CRS)</td>\n",
       "      <td>Success</td>\n",
       "      <td>No attempt</td>\n",
       "    </tr>\n",
       "    <tr>\n",
       "      <th>...</th>\n",
       "      <td>...</td>\n",
       "      <td>...</td>\n",
       "      <td>...</td>\n",
       "      <td>...</td>\n",
       "      <td>...</td>\n",
       "      <td>...</td>\n",
       "      <td>...</td>\n",
       "      <td>...</td>\n",
       "      <td>...</td>\n",
       "      <td>...</td>\n",
       "    </tr>\n",
       "    <tr>\n",
       "      <th>96</th>\n",
       "      <td>2020-11-05</td>\n",
       "      <td>23:24:23</td>\n",
       "      <td>F9 B5B1062.1</td>\n",
       "      <td>CCAFS SLC-40</td>\n",
       "      <td>GPS III-04 , Crew-1</td>\n",
       "      <td>4311</td>\n",
       "      <td>MEO</td>\n",
       "      <td>USSF</td>\n",
       "      <td>Success</td>\n",
       "      <td>Success</td>\n",
       "    </tr>\n",
       "    <tr>\n",
       "      <th>97</th>\n",
       "      <td>2020-11-16</td>\n",
       "      <td>0:27:00</td>\n",
       "      <td>F9 B5B1061.1</td>\n",
       "      <td>KSC LC-39A</td>\n",
       "      <td>Crew-1, Sentinel-6 Michael Freilich</td>\n",
       "      <td>12500</td>\n",
       "      <td>LEO (ISS)</td>\n",
       "      <td>NASA (CCP)</td>\n",
       "      <td>Success</td>\n",
       "      <td>Success</td>\n",
       "    </tr>\n",
       "    <tr>\n",
       "      <th>98</th>\n",
       "      <td>2020-11-21</td>\n",
       "      <td>17:17:08</td>\n",
       "      <td>F9 B5B1063.1</td>\n",
       "      <td>VAFB SLC-4E</td>\n",
       "      <td>Sentinel-6 Michael Freilich, Starlink 15 v1.0</td>\n",
       "      <td>1192</td>\n",
       "      <td>LEO</td>\n",
       "      <td>NASA / NOAA / ESA / EUMETSAT</td>\n",
       "      <td>Success</td>\n",
       "      <td>Success</td>\n",
       "    </tr>\n",
       "    <tr>\n",
       "      <th>99</th>\n",
       "      <td>2020-11-25</td>\n",
       "      <td>2:13:00</td>\n",
       "      <td>F9 B5 B1049.7</td>\n",
       "      <td>CCAFS SLC-40</td>\n",
       "      <td>Starlink 15 v1.0, SpaceX CRS-21</td>\n",
       "      <td>15600</td>\n",
       "      <td>LEO</td>\n",
       "      <td>SpaceX</td>\n",
       "      <td>Success</td>\n",
       "      <td>Success</td>\n",
       "    </tr>\n",
       "    <tr>\n",
       "      <th>100</th>\n",
       "      <td>2020-12-06</td>\n",
       "      <td>16:17:08</td>\n",
       "      <td>F9 B5 B1058.4</td>\n",
       "      <td>KSC LC-39A</td>\n",
       "      <td>SpaceX CRS-21</td>\n",
       "      <td>2972</td>\n",
       "      <td>LEO (ISS)</td>\n",
       "      <td>NASA (CRS)</td>\n",
       "      <td>Success</td>\n",
       "      <td>Success</td>\n",
       "    </tr>\n",
       "  </tbody>\n",
       "</table>\n",
       "<p>101 rows × 10 columns</p>\n",
       "</div>"
      ],
      "text/plain": [
       "           Date Time (UTC) Booster_Version   Launch_Site  \\\n",
       "0    2010-06-04   18:45:00  F9 v1.0  B0003   CCAFS LC-40   \n",
       "1    2010-12-08   15:43:00  F9 v1.0  B0004   CCAFS LC-40   \n",
       "2    2012-05-22    7:44:00  F9 v1.0  B0005   CCAFS LC-40   \n",
       "3    2012-10-08    0:35:00  F9 v1.0  B0006   CCAFS LC-40   \n",
       "4    2013-03-01   15:10:00  F9 v1.0  B0007   CCAFS LC-40   \n",
       "..          ...        ...             ...           ...   \n",
       "96   2020-11-05   23:24:23    F9 B5B1062.1  CCAFS SLC-40   \n",
       "97   2020-11-16    0:27:00   F9 B5B1061.1     KSC LC-39A   \n",
       "98   2020-11-21   17:17:08    F9 B5B1063.1   VAFB SLC-4E   \n",
       "99   2020-11-25    2:13:00  F9 B5 B1049.7   CCAFS SLC-40   \n",
       "100  2020-12-06   16:17:08  F9 B5 B1058.4     KSC LC-39A   \n",
       "\n",
       "                                               Payload  PAYLOAD_MASS__KG_  \\\n",
       "0                 Dragon Spacecraft Qualification Unit                  0   \n",
       "1    Dragon demo flight C1, two CubeSats, barrel of...                  0   \n",
       "2                                Dragon demo flight C2                525   \n",
       "3                                         SpaceX CRS-1                500   \n",
       "4                                         SpaceX CRS-2                677   \n",
       "..                                                 ...                ...   \n",
       "96                                 GPS III-04 , Crew-1               4311   \n",
       "97                Crew-1, Sentinel-6 Michael Freilich               12500   \n",
       "98      Sentinel-6 Michael Freilich, Starlink 15 v1.0                1192   \n",
       "99                     Starlink 15 v1.0, SpaceX CRS-21              15600   \n",
       "100                                      SpaceX CRS-21               2972   \n",
       "\n",
       "         Orbit                      Customer Mission_Outcome  \\\n",
       "0          LEO                        SpaceX         Success   \n",
       "1    LEO (ISS)               NASA (COTS) NRO         Success   \n",
       "2    LEO (ISS)                   NASA (COTS)         Success   \n",
       "3    LEO (ISS)                    NASA (CRS)         Success   \n",
       "4    LEO (ISS)                    NASA (CRS)         Success   \n",
       "..         ...                           ...             ...   \n",
       "96         MEO                          USSF         Success   \n",
       "97   LEO (ISS)                    NASA (CCP)         Success   \n",
       "98         LEO  NASA / NOAA / ESA / EUMETSAT         Success   \n",
       "99         LEO                        SpaceX         Success   \n",
       "100  LEO (ISS)                    NASA (CRS)         Success   \n",
       "\n",
       "         Landing_Outcome  \n",
       "0    Failure (parachute)  \n",
       "1    Failure (parachute)  \n",
       "2             No attempt  \n",
       "3             No attempt  \n",
       "4             No attempt  \n",
       "..                   ...  \n",
       "96               Success  \n",
       "97               Success  \n",
       "98               Success  \n",
       "99               Success  \n",
       "100              Success  \n",
       "\n",
       "[101 rows x 10 columns]"
      ]
     },
     "execution_count": 5,
     "metadata": {},
     "output_type": "execute_result"
    }
   ],
   "source": [
    "# df = pd.read_csv(\"spacex_dataset.csv\")\n",
    "df = pd.read_csv('https://cf-courses-data.s3.us.cloud-object-storage.appdomain.cloud/IBM-DS0321EN-SkillsNetwork/labs/module_2/data/Spacex.csv')\n",
    "df.to_sql(\"SPACEXTABLE\", con, if_exists='replace', index=False, method=\"multi\")\n",
    "\n",
    "cur.execute(\"CREATE TABLE IF NOT EXISTS SPACEXTABLE_CLEAN AS SELECT * FROM SPACEXTABLE WHERE Date IS NOT NULL\")\n",
    "con.commit()\n",
    "\n",
    "df_clean = pd.read_sql_query(\"SELECT * FROM SPACEXTABLE_CLEAN\", con)\n",
    "df_clean"
   ]
  },
  {
   "cell_type": "markdown",
   "metadata": {},
   "source": [
    "## Some Insights Extracted via SQL\n",
    "\n",
    "##### All launch site names"
   ]
  },
  {
   "cell_type": "code",
   "execution_count": 6,
   "metadata": {
    "tags": []
   },
   "outputs": [
    {
     "name": "stdout",
     "output_type": "stream",
     "text": [
      "    Launch_Site\n",
      "0   CCAFS LC-40\n",
      "1   VAFB SLC-4E\n",
      "2    KSC LC-39A\n",
      "3  CCAFS SLC-40\n"
     ]
    }
   ],
   "source": [
    "unique_launch_site_query = \"SELECT DISTINCT Launch_Site FROM SPACEXTABLE_CLEAN\"\n",
    "launch_sites_df = pd.read_sql_query(unique_launch_site_query, con)\n",
    "\n",
    "print(launch_sites_df)"
   ]
  },
  {
   "cell_type": "markdown",
   "metadata": {},
   "source": [
    "\n",
    "#####  Some launches originated at a CCA launch site\n"
   ]
  },
  {
   "cell_type": "code",
   "execution_count": 7,
   "metadata": {
    "tags": []
   },
   "outputs": [
    {
     "name": "stdout",
     "output_type": "stream",
     "text": [
      "         Date Time (UTC) Booster_Version  Launch_Site  \\\n",
      "0  2010-06-04   18:45:00  F9 v1.0  B0003  CCAFS LC-40   \n",
      "1  2010-12-08   15:43:00  F9 v1.0  B0004  CCAFS LC-40   \n",
      "2  2012-05-22    7:44:00  F9 v1.0  B0005  CCAFS LC-40   \n",
      "3  2012-10-08    0:35:00  F9 v1.0  B0006  CCAFS LC-40   \n",
      "4  2013-03-01   15:10:00  F9 v1.0  B0007  CCAFS LC-40   \n",
      "5  2013-12-03   22:41:00         F9 v1.1  CCAFS LC-40   \n",
      "6  2014-01-06   22:06:00         F9 v1.1  CCAFS LC-40   \n",
      "7  2014-04-18   19:25:00         F9 v1.1  CCAFS LC-40   \n",
      "8  2014-07-14   15:15:00         F9 v1.1  CCAFS LC-40   \n",
      "9  2014-08-05    8:00:00         F9 v1.1  CCAFS LC-40   \n",
      "\n",
      "                                             Payload  PAYLOAD_MASS__KG_  \\\n",
      "0               Dragon Spacecraft Qualification Unit                  0   \n",
      "1  Dragon demo flight C1, two CubeSats, barrel of...                  0   \n",
      "2                              Dragon demo flight C2                525   \n",
      "3                                       SpaceX CRS-1                500   \n",
      "4                                       SpaceX CRS-2                677   \n",
      "5                                              SES-8               3170   \n",
      "6                                          Thaicom 6               3325   \n",
      "7                                       SpaceX CRS-3               2296   \n",
      "8            OG2 Mission 1  6 Orbcomm-OG2 satellites               1316   \n",
      "9                                          AsiaSat 8               4535   \n",
      "\n",
      "       Orbit         Customer Mission_Outcome      Landing_Outcome  \n",
      "0        LEO           SpaceX         Success  Failure (parachute)  \n",
      "1  LEO (ISS)  NASA (COTS) NRO         Success  Failure (parachute)  \n",
      "2  LEO (ISS)      NASA (COTS)         Success           No attempt  \n",
      "3  LEO (ISS)       NASA (CRS)         Success           No attempt  \n",
      "4  LEO (ISS)       NASA (CRS)         Success           No attempt  \n",
      "5        GTO              SES         Success           No attempt  \n",
      "6        GTO          Thaicom         Success           No attempt  \n",
      "7  LEO (ISS)       NASA (CRS)         Success   Controlled (ocean)  \n",
      "8        LEO          Orbcomm         Success   Controlled (ocean)  \n",
      "9        GTO          AsiaSat         Success           No attempt  \n"
     ]
    }
   ],
   "source": [
    "CCA_5_query = \"SELECT * FROM SPACEXTABLE_CLEAN WHERE Launch_Site LIKE 'CCA%' LIMIT 10;\"\n",
    "cca_5_df = pd.read_sql_query(CCA_5_query, con)\n",
    "print(cca_5_df)"
   ]
  },
  {
   "cell_type": "markdown",
   "metadata": {},
   "source": [
    "##### Total payload mass carried by boosters launched by NASA (CRS)"
   ]
  },
  {
   "cell_type": "code",
   "execution_count": 29,
   "metadata": {
    "tags": []
   },
   "outputs": [
    {
     "name": "stdout",
     "output_type": "stream",
     "text": [
      "TOTAL PAYLOAD:  45596\n"
     ]
    }
   ],
   "source": [
    "total_payload_mass_CRS_query = \"SELECT SUM(PAYLOAD_MASS__KG_) FROM SPACEXTABLE_CLEAN WHERE Customer = 'NASA (CRS)'\"\n",
    "print('TOTAL PAYLOAD: ', pd.read_sql_query(total_payload_mass_CRS_query, con).iloc[0,0])"
   ]
  },
  {
   "cell_type": "markdown",
   "metadata": {},
   "source": [
    "##### Average payload mass carried by booster version F9 v1.1\n"
   ]
  },
  {
   "cell_type": "code",
   "execution_count": 31,
   "metadata": {
    "tags": []
   },
   "outputs": [
    {
     "name": "stdout",
     "output_type": "stream",
     "text": [
      "AVERAGE PAYLOAD:  2534.6666666666665\n"
     ]
    }
   ],
   "source": [
    "average_payload_mass_F9_query = \"SELECT AVG(PAYLOAD_MASS__KG_) FROM SPACEXTABLE WHERE Booster_Version LIKE '%F9 v1.1%'\"\n",
    "print('AVERAGE PAYLOAD: ', pd.read_sql_query(average_payload_mass_F9_query, con).iloc[0,0])"
   ]
  },
  {
   "cell_type": "markdown",
   "metadata": {},
   "source": [
    "##### Date when the first succesful landing outcome (ground pad) was achieved."
   ]
  },
  {
   "cell_type": "code",
   "execution_count": 34,
   "metadata": {
    "tags": []
   },
   "outputs": [
    {
     "name": "stdout",
     "output_type": "stream",
     "text": [
      "DATE:  2015-12-22\n"
     ]
    }
   ],
   "source": [
    "first_successful_landing_date_query = \"SELECT MIN(Date) FROM SPACEXTABLE_CLEAN WHERE Landing_Outcome = 'Success (ground pad)'\"\n",
    "print('DATE: ', pd.read_sql_query(first_successful_landing_date_query, con).iloc[0,0])"
   ]
  },
  {
   "cell_type": "markdown",
   "metadata": {},
   "source": [
    "##### All successfull Boosters in drone ship landing with a payload mass between 4000 and 6000"
   ]
  },
  {
   "cell_type": "code",
   "execution_count": 39,
   "metadata": {
    "tags": []
   },
   "outputs": [
    {
     "name": "stdout",
     "output_type": "stream",
     "text": [
      "  Booster_Version\n",
      "0     F9 FT B1022\n",
      "1     F9 FT B1026\n",
      "2  F9 FT  B1021.2\n",
      "3  F9 FT  B1031.2\n"
     ]
    }
   ],
   "source": [
    "successful_drone_ship_names_query = \"\"\"\n",
    "SELECT Booster_Version FROM SPACEXTABLE_CLEAN\n",
    "WHERE Landing_Outcome = \"Success (drone ship)\"\n",
    "    AND PAYLOAD_MASS__KG_ > 4000\n",
    "    AND PAYLOAD_MASS__KG_ < 6000;\n",
    "\"\"\"\n",
    "\n",
    "print(pd.read_sql_query(successful_drone_ship_names_query, con))"
   ]
  },
  {
   "cell_type": "markdown",
   "metadata": {},
   "source": [
    "##### Total number of successful and failed mission outcomes\n"
   ]
  },
  {
   "cell_type": "code",
   "execution_count": 43,
   "metadata": {},
   "outputs": [
    {
     "name": "stdout",
     "output_type": "stream",
     "text": [
      "Successful Missions:  100\n",
      "Failed Missions:  1\n"
     ]
    }
   ],
   "source": [
    "successful_outcomes_query = \"\"\"\n",
    "SELECT COUNT('*')\n",
    "FROM SPACEXTABLE\n",
    "WHERE Mission_Outcome LIKE \"Success%\"\n",
    "\"\"\"\n",
    "\n",
    "successful_missions = pd.read_sql_query(successful_outcomes_query, con)\n",
    "\n",
    "\n",
    "failed_outcomes_query = \"\"\"\n",
    "SELECT COUNT ('*')\n",
    "FROM SPACEXTABLE\n",
    "WHERE Mission_Outcome LIKE \"Failure%\"\n",
    "\"\"\"\n",
    "\n",
    "failed_missions = pd.read_sql_query(failed_outcomes_query, con)\n",
    "\n",
    "\n",
    "print('Successful Missions: ', successful_missions.iloc[0,0])\n",
    "print('Failed Missions: ', failed_missions.iloc[0,0])\n"
   ]
  },
  {
   "cell_type": "markdown",
   "metadata": {},
   "source": [
    "##### All boster Versions which have carried the maximum payload mass"
   ]
  },
  {
   "cell_type": "code",
   "execution_count": 47,
   "metadata": {},
   "outputs": [
    {
     "name": "stdout",
     "output_type": "stream",
     "text": [
      "   Booster_Version\n",
      "0    F9 B5 B1048.4\n",
      "1    F9 B5 B1049.4\n",
      "2    F9 B5 B1051.3\n",
      "3    F9 B5 B1056.4\n",
      "4    F9 B5 B1048.5\n",
      "5    F9 B5 B1051.4\n",
      "6    F9 B5 B1049.5\n",
      "7   F9 B5 B1060.2 \n",
      "8   F9 B5 B1058.3 \n",
      "9    F9 B5 B1051.6\n",
      "10   F9 B5 B1060.3\n",
      "11  F9 B5 B1049.7 \n"
     ]
    }
   ],
   "source": [
    "max_payload_mass = \"\"\"\n",
    "SELECT \"Booster_Version\"\n",
    "FROM SPACEXTABLE_CLEAN\n",
    "WHERE \"PAYLOAD_MASS__KG_\" = (\n",
    "    SELECT MAX(\"PAYLOAD_MASS__KG_\")\n",
    "    FROM SPACEXTABLE_CLEAN\n",
    ");\n",
    "\"\"\"\n",
    "\n",
    "print(pd.read_sql_query(max_payload_mass, con))"
   ]
  },
  {
   "cell_type": "markdown",
   "metadata": {},
   "source": [
    "##### All 2015 failed launches (drone ship) with their month number, booster version, and launch site"
   ]
  },
  {
   "cell_type": "code",
   "execution_count": 52,
   "metadata": {},
   "outputs": [
    {
     "name": "stdout",
     "output_type": "stream",
     "text": [
      "  Month       Landing_Outcome Booster_Version  Launch_Site\n",
      "0    01  Failure (drone ship)   F9 v1.1 B1012  CCAFS LC-40\n",
      "1    04  Failure (drone ship)   F9 v1.1 B1015  CCAFS LC-40\n"
     ]
    }
   ],
   "source": [
    "max_payload_mass_query = \"\"\"\n",
    "SELECT strftime('%m', \"Date\") AS Month, \n",
    "       \"Landing_Outcome\", \n",
    "       \"Booster_Version\", \n",
    "       \"Launch_Site\"\n",
    "  FROM SPACEXTABLE\n",
    "  WHERE \"Landing_Outcome\" = 'Failure (drone ship)' AND strftime('%Y', \"Date\") = '2015'\n",
    "\"\"\"\n",
    "\n",
    "print(pd.read_sql_query(max_payload_mass_query, con))"
   ]
  },
  {
   "cell_type": "markdown",
   "metadata": {},
   "source": [
    "##### Ranking of landing outcomes (such as Failure (drone ship) or Success (ground pad)) between the dates of 06/04/2010 and 03/20/2021, in descending order."
   ]
  },
  {
   "cell_type": "code",
   "execution_count": 53,
   "metadata": {},
   "outputs": [
    {
     "name": "stdout",
     "output_type": "stream",
     "text": [
      "Landing_Outcome           Outcome_Count   Rank \n",
      "Success                   38              1    \n",
      "No attempt                21              2    \n",
      "Success (drone ship)      14              3    \n",
      "Success (ground pad)      9               4    \n",
      "Failure (drone ship)      5               5    \n",
      "Controlled (ocean)        5               5    \n",
      "Failure                   3               7    \n",
      "Uncontrolled (ocean)      2               8    \n",
      "Failure (parachute)       2               8    \n",
      "Precluded (drone ship)    1               10   \n",
      "No attempt                1               10   \n"
     ]
    }
   ],
   "source": [
    "landing_outcomes_ranking = \"\"\"\n",
    "SELECT \n",
    "    \"Landing_Outcome\", \n",
    "    COUNT(*) AS Outcome_Count,\n",
    "    RANK() OVER (ORDER BY COUNT(*) DESC) AS Rank\n",
    "FROM SPACEXTABLE_CLEAN\n",
    "WHERE \"Date\" BETWEEN '2010-06-04' AND '2021-03-20'\n",
    "GROUP BY \"Landing_Outcome\"\n",
    "ORDER BY Rank;\n",
    "\"\"\"\n",
    "\n",
    "df_landing_outcomes = pd.read_sql_query(landing_outcomes_ranking, con)\n",
    "print(\"{:<25} {:<15} {:<5}\".format('Landing_Outcome', 'Outcome_Count', 'Rank'))\n",
    "for i, row in df_landing_outcomes.iterrows():\n",
    "    print(\"{:<25} {:<15} {:<5}\".format(row['Landing_Outcome'], row['Outcome_Count'], row['Rank']))"
   ]
  }
 ],
 "metadata": {
  "kernelspec": {
   "display_name": ".venv",
   "language": "python",
   "name": "python3"
  },
  "language_info": {
   "codemirror_mode": {
    "name": "ipython",
    "version": 3
   },
   "file_extension": ".py",
   "mimetype": "text/x-python",
   "name": "python",
   "nbconvert_exporter": "python",
   "pygments_lexer": "ipython3",
   "version": "3.13.7"
  }
 },
 "nbformat": 4,
 "nbformat_minor": 4
}
